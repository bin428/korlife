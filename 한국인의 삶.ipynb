{
 "cells": [
  {
   "cell_type": "code",
   "execution_count": 1,
   "metadata": {},
   "outputs": [],
   "source": [
    "#!pip install pyreadstat\n",
    "#!pip install matplotlib seaborn\n",
    "#!pip install mplcursors"
   ]
  },
  {
   "cell_type": "code",
   "execution_count": 2,
   "metadata": {},
   "outputs": [],
   "source": [
    "import pandas as pd\n",
    "import numpy as np\n",
    "import seaborn as sns \n",
    "import matplotlib.pyplot as plt\n",
    "import matplotlib\n",
    "import mplcursors\n",
    "import warnings\n",
    "warnings.filterwarnings('ignore')"
   ]
  },
  {
   "cell_type": "code",
   "execution_count": 3,
   "metadata": {},
   "outputs": [],
   "source": [
    "plt.rcParams['font.family']='Malgun Gothic'"
   ]
  },
  {
   "cell_type": "code",
   "execution_count": 4,
   "metadata": {},
   "outputs": [],
   "source": [
    "#데이터 불러오기\n",
    "raw_welfare = pd.read_spss('D:\\syb_data\\data\\Koweps_hpda18_2023_beta1.sav')\n",
    "#데이터 불러오기\n",
    "raw_welfare_19 = pd.read_spss('D:\\syb_data\\data/Koweps_hpwc14_2019_beta2.sav')\n",
    "#복사본 만들기\n",
    "welfare = raw_welfare.copy()\n",
    "#복사본 만들기\n",
    "welfare_19 = raw_welfare_19.copy()"
   ]
  },
  {
   "cell_type": "code",
   "execution_count": 5,
   "metadata": {},
   "outputs": [],
   "source": [
    "#데이터 검토\n",
    "#welfare           # 앞부분, 뒷부분 확인\n",
    "#welfare.shape     # 행, 열의 개수\n",
    "#welfare.info()    # 열의 속성\n",
    "#welfare.describe() # 요약통계"
   ]
  },
  {
   "cell_type": "code",
   "execution_count": 6,
   "metadata": {},
   "outputs": [],
   "source": [
    "# 분석에 필요한 열을 결정 // 열 이름 변경\n",
    "welfare = welfare.rename(\n",
    "    columns= {'h18_g3' : 'sex',                # 성별\n",
    "              'h18_g4' : 'birth',              # 태어난 년도\n",
    "              'h18_g10' : 'marriage_type',    # 혼인 상태\n",
    "              'h18_g11' : 'religion',          # 종교\n",
    "              'p1802_8aq1' : 'income',         # 월급\n",
    "              'h18_eco9' : 'code_job',         # 직업 코드\n",
    "              'h18_reg7' : 'code_region',      # 지역 코드\n",
    "              'h18_eco4' : 'eW' ,              # 주된 경제활동 참여상태\n",
    "              'h18_eco11': 'no_eW',              #비경제활동사유\n",
    "              'h18_g8' : 'disabled_type', #장애종류\n",
    "              'h18_med3' : 'hospital_year', #1년간 의료기간 이용 외래진료횟수\n",
    "              'h18_soc_5' : 'pension_status' #국민연급 납부여부    \n",
    "                              \n",
    "              })    \n"
   ]
  },
  {
   "cell_type": "code",
   "execution_count": 7,
   "metadata": {},
   "outputs": [],
   "source": [
    "welfare_19 = welfare_19.rename(\n",
    "    columns= {'h14_g3' : 'sex',                # 성별\n",
    "              'h14_g4' : 'birth',              # 태어난 년도\n",
    "              'h14_g10' : 'marriage_type',    # 혼인 상태\n",
    "              'h14_g11' : 'religion',          # 종교\n",
    "              'p1402_8aq1' : 'income',         # 월급\n",
    "              'h14_eco9' : 'code_job',         # 직업 코드\n",
    "              'h14_reg7' : 'code_region',       # 지역 코드\n",
    "              'h14_eco4' : 'eW' ,              # 주된 경제활동 참여상태\n",
    "              'h14_eco11' : 'no_eW',       # 비경제활동사유\n",
    "              'h14_g8' : 'disabled_type', #장애종류\n",
    "              'h14_med3' : 'hospital_year', #1년간 의료기간 이용 외래진료횟수\n",
    "              'h14_soc_5' : 'pension_status', #국민연급 납부여부  \n",
    "              })  "
   ]
  },
  {
   "cell_type": "code",
   "execution_count": 8,
   "metadata": {},
   "outputs": [
    {
     "data": {
      "text/plain": [
       "count    15931.000000\n",
       "mean        50.575984\n",
       "std         24.226765\n",
       "min         -2.000000\n",
       "25%         32.000000\n",
       "50%         55.000000\n",
       "75%         71.000000\n",
       "max        114.000000\n",
       "Name: age, dtype: float64"
      ]
     },
     "execution_count": 8,
     "metadata": {},
     "output_type": "execute_result"
    }
   ],
   "source": [
    "welfare = welfare.assign(age = 2019 - welfare['birth']+1 )\n",
    "welfare['age'].describe()"
   ]
  },
  {
   "cell_type": "code",
   "execution_count": 9,
   "metadata": {},
   "outputs": [
    {
     "data": {
      "text/plain": [
       "count    14418.000000\n",
       "mean        49.821889\n",
       "std         24.318288\n",
       "min         -2.000000\n",
       "25%         31.000000\n",
       "50%         53.000000\n",
       "75%         71.000000\n",
       "max        114.000000\n",
       "Name: age, dtype: float64"
      ]
     },
     "execution_count": 9,
     "metadata": {},
     "output_type": "execute_result"
    }
   ],
   "source": [
    "welfare_19 = welfare_19.assign(age = 2019 - welfare['birth']+1 )\n",
    "welfare_19['age'].describe()"
   ]
  },
  {
   "cell_type": "code",
   "execution_count": 10,
   "metadata": {},
   "outputs": [
    {
     "data": {
      "text/plain": [
       "0    75.0\n",
       "1    72.0\n",
       "2    78.0\n",
       "3    58.0\n",
       "4    57.0\n",
       "Name: age, dtype: float64"
      ]
     },
     "execution_count": 10,
     "metadata": {},
     "output_type": "execute_result"
    }
   ],
   "source": [
    "#연령대에 따른 입금 차이\n",
    "#초년층 : 30세 미만, 중년층 : 30~59세 , 노년층 : 60세 이상\n",
    "\n",
    "#나이 변수 확인\n",
    "\n",
    "welfare['age'].head()"
   ]
  },
  {
   "cell_type": "code",
   "execution_count": 11,
   "metadata": {},
   "outputs": [
    {
     "data": {
      "text/plain": [
       "ageg\n",
       "old       6914\n",
       "middle    5339\n",
       "young     3678\n",
       "Name: count, dtype: int64"
      ]
     },
     "execution_count": 11,
     "metadata": {},
     "output_type": "execute_result"
    }
   ],
   "source": [
    "welfare = welfare.assign(ageg = np.where(welfare['age']<30, 'young',\n",
    "                                np.where(welfare['age']<=59, 'middle','old')))\n",
    "welfare['ageg'].value_counts()"
   ]
  },
  {
   "cell_type": "code",
   "execution_count": 12,
   "metadata": {},
   "outputs": [
    {
     "data": {
      "text/plain": [
       "<Axes: xlabel='ageg', ylabel='count'>"
      ]
     },
     "execution_count": 12,
     "metadata": {},
     "output_type": "execute_result"
    },
    {
     "data": {
      "image/png": "[encoded data removed]",
      "text/plain": [
       "<Figure size 640x480 with 1 Axes>"
      ]
     },
     "metadata": {},
     "output_type": "display_data"
    }
   ],
   "source": [
    "# 빈도 그래프\n",
    "sns.countplot(data=welfare, x= 'ageg')"
   ]
  },
  {
   "cell_type": "markdown",
   "metadata": {},
   "source": [
    "### 연령대 별 취업률과 실업률 비율 "
   ]
  },
  {
   "cell_type": "code",
   "execution_count": 13,
   "metadata": {},
   "outputs": [
    {
     "data": {
      "text/plain": [
       "count    14422.000000\n",
       "mean         5.621620\n",
       "std          3.330262\n",
       "min          1.000000\n",
       "25%          2.000000\n",
       "50%          6.000000\n",
       "75%          9.000000\n",
       "max          9.000000\n",
       "Name: eW, dtype: float64"
      ]
     },
     "execution_count": 13,
     "metadata": {},
     "output_type": "execute_result"
    }
   ],
   "source": [
    "welfare['eW'].describe()"
   ]
  },
  {
   "cell_type": "code",
   "execution_count": 14,
   "metadata": {},
   "outputs": [
    {
     "data": {
      "text/plain": [
       "eW\n",
       "9.0    6042\n",
       "1.0    2757\n",
       "2.0    1880\n",
       "6.0    1627\n",
       "4.0     746\n",
       "7.0     544\n",
       "3.0     477\n",
       "5.0     199\n",
       "8.0     150\n",
       "Name: count, dtype: int64"
      ]
     },
     "execution_count": 14,
     "metadata": {},
     "output_type": "execute_result"
    }
   ],
   "source": [
    "welfare['eW'].dtype\n",
    "welfare['eW'].value_counts() # 빈도수 "
   ]
  },
  {
   "cell_type": "code",
   "execution_count": 15,
   "metadata": {},
   "outputs": [
    {
     "name": "stdout",
     "output_type": "stream",
     "text": [
      "결측 확인: 1509\n"
     ]
    },
    {
     "data": {
      "text/plain": [
       "np.int64(1509)"
      ]
     },
     "execution_count": 15,
     "metadata": {},
     "output_type": "execute_result"
    }
   ],
   "source": [
    "#이상치 결측 처리 \n",
    "\n",
    "welfare['eW']=np.where(welfare['eW'] == 99, np.nan, welfare['eW'])\n",
    "\n",
    "\n",
    "# 결측 확인\n",
    "print(\"결측 확인:\", welfare['eW'].isna().sum()) \n",
    "welfare['eW'].isna().sum()"
   ]
  },
  {
   "cell_type": "code",
   "execution_count": 16,
   "metadata": {},
   "outputs": [],
   "source": [
    "welfare=welfare.dropna(subset=['eW'])"
   ]
  },
  {
   "cell_type": "code",
   "execution_count": 17,
   "metadata": {},
   "outputs": [
    {
     "data": {
      "text/plain": [
       "ewg\n",
       "취업률    8230\n",
       "비경제    6042\n",
       "실업률     150\n",
       "Name: count, dtype: int64"
      ]
     },
     "execution_count": 17,
     "metadata": {},
     "output_type": "execute_result"
    }
   ],
   "source": [
    "welfare = welfare.assign(ewg = np.where(welfare['eW'] <= 7, '취업률',\n",
    "                               np.where(welfare['eW'] == 8, '실업률','비경제')))\n",
    "welfare['ewg'].value_counts()"
   ]
  },
  {
   "cell_type": "code",
   "execution_count": 18,
   "metadata": {},
   "outputs": [
    {
     "data": {
      "text/html": [
       "<div>\n",
       "<style scoped>\n",
       "    .dataframe tbody tr th:only-of-type {\n",
       "        vertical-align: middle;\n",
       "    }\n",
       "\n",
       "    .dataframe tbody tr th {\n",
       "        vertical-align: top;\n",
       "    }\n",
       "\n",
       "    .dataframe thead th {\n",
       "        text-align: right;\n",
       "    }\n",
       "</style>\n",
       "<table border=\"1\" class=\"dataframe\">\n",
       "  <thead>\n",
       "    <tr style=\"text-align: right;\">\n",
       "      <th></th>\n",
       "      <th>ewg</th>\n",
       "      <th>n</th>\n",
       "    </tr>\n",
       "  </thead>\n",
       "  <tbody>\n",
       "    <tr>\n",
       "      <th>0</th>\n",
       "      <td>비경제</td>\n",
       "      <td>6042</td>\n",
       "    </tr>\n",
       "    <tr>\n",
       "      <th>1</th>\n",
       "      <td>실업률</td>\n",
       "      <td>150</td>\n",
       "    </tr>\n",
       "    <tr>\n",
       "      <th>2</th>\n",
       "      <td>취업률</td>\n",
       "      <td>8230</td>\n",
       "    </tr>\n",
       "  </tbody>\n",
       "</table>\n",
       "</div>"
      ],
      "text/plain": [
       "   ewg     n\n",
       "0  비경제  6042\n",
       "1  실업률   150\n",
       "2  취업률  8230"
      ]
     },
     "execution_count": 18,
     "metadata": {},
     "output_type": "execute_result"
    }
   ],
   "source": [
    "n_Employment =welfare.groupby('ewg',as_index=False)\\\n",
    "                 .agg(n= ('ewg','count'))\n",
    "n_Employment"
   ]
  },
  {
   "cell_type": "code",
   "execution_count": 19,
   "metadata": {},
   "outputs": [
    {
     "data": {
      "text/plain": [
       "<Axes: xlabel='ewg', ylabel='n'>"
      ]
     },
     "execution_count": 19,
     "metadata": {},
     "output_type": "execute_result"
    },
    {
     "data": {
      "image/png": "[encoded data removed]",
      "text/plain": [
       "<Figure size 640x480 with 1 Axes>"
      ]
     },
     "metadata": {},
     "output_type": "display_data"
    }
   ],
   "source": [
    "sns.barplot(data = n_Employment, x='ewg', y='n')\n"
   ]
  },
  {
   "cell_type": "code",
   "execution_count": 20,
   "metadata": {},
   "outputs": [
    {
     "data": {
      "text/html": [
       "<div>\n",
       "<style scoped>\n",
       "    .dataframe tbody tr th:only-of-type {\n",
       "        vertical-align: middle;\n",
       "    }\n",
       "\n",
       "    .dataframe tbody tr th {\n",
       "        vertical-align: top;\n",
       "    }\n",
       "\n",
       "    .dataframe thead th {\n",
       "        text-align: right;\n",
       "    }\n",
       "</style>\n",
       "<table border=\"1\" class=\"dataframe\">\n",
       "  <thead>\n",
       "    <tr style=\"text-align: right;\">\n",
       "      <th></th>\n",
       "      <th>ageg</th>\n",
       "      <th>ewg</th>\n",
       "      <th>proportion</th>\n",
       "    </tr>\n",
       "  </thead>\n",
       "  <tbody>\n",
       "    <tr>\n",
       "      <th>0</th>\n",
       "      <td>middle</td>\n",
       "      <td>취업률</td>\n",
       "      <td>0.785728</td>\n",
       "    </tr>\n",
       "    <tr>\n",
       "      <th>1</th>\n",
       "      <td>middle</td>\n",
       "      <td>비경제</td>\n",
       "      <td>0.199663</td>\n",
       "    </tr>\n",
       "    <tr>\n",
       "      <th>2</th>\n",
       "      <td>middle</td>\n",
       "      <td>실업률</td>\n",
       "      <td>0.014609</td>\n",
       "    </tr>\n",
       "    <tr>\n",
       "      <th>3</th>\n",
       "      <td>old</td>\n",
       "      <td>비경제</td>\n",
       "      <td>0.555395</td>\n",
       "    </tr>\n",
       "    <tr>\n",
       "      <th>4</th>\n",
       "      <td>old</td>\n",
       "      <td>취업률</td>\n",
       "      <td>0.440989</td>\n",
       "    </tr>\n",
       "    <tr>\n",
       "      <th>5</th>\n",
       "      <td>old</td>\n",
       "      <td>실업률</td>\n",
       "      <td>0.003616</td>\n",
       "    </tr>\n",
       "    <tr>\n",
       "      <th>6</th>\n",
       "      <td>young</td>\n",
       "      <td>비경제</td>\n",
       "      <td>0.523744</td>\n",
       "    </tr>\n",
       "    <tr>\n",
       "      <th>7</th>\n",
       "      <td>young</td>\n",
       "      <td>취업률</td>\n",
       "      <td>0.454587</td>\n",
       "    </tr>\n",
       "    <tr>\n",
       "      <th>8</th>\n",
       "      <td>young</td>\n",
       "      <td>실업률</td>\n",
       "      <td>0.021669</td>\n",
       "    </tr>\n",
       "  </tbody>\n",
       "</table>\n",
       "</div>"
      ],
      "text/plain": [
       "     ageg  ewg  proportion\n",
       "0  middle  취업률    0.785728\n",
       "1  middle  비경제    0.199663\n",
       "2  middle  실업률    0.014609\n",
       "3     old  비경제    0.555395\n",
       "4     old  취업률    0.440989\n",
       "5     old  실업률    0.003616\n",
       "6   young  비경제    0.523744\n",
       "7   young  취업률    0.454587\n",
       "8   young  실업률    0.021669"
      ]
     },
     "execution_count": 20,
     "metadata": {},
     "output_type": "execute_result"
    }
   ],
   "source": [
    "age_eW = welfare.groupby('ageg',as_index=False)\\\n",
    "                 ['ewg']\\\n",
    "                 .value_counts(normalize=True)\n",
    "age_eW"
   ]
  },
  {
   "cell_type": "code",
   "execution_count": 21,
   "metadata": {},
   "outputs": [
    {
     "data": {
      "text/plain": [
       "<Axes: xlabel='proportion', ylabel='ewg'>"
      ]
     },
     "execution_count": 21,
     "metadata": {},
     "output_type": "execute_result"
    },
    {
     "data": {
      "image/png": "[encoded data removed]",
      "text/plain": [
       "<Figure size 640x480 with 1 Axes>"
      ]
     },
     "metadata": {},
     "output_type": "display_data"
    }
   ],
   "source": [
    "sns.barplot(data=age_eW, y='ewg', x='proportion',hue='ageg')\n"
   ]
  },
  {
   "cell_type": "code",
   "execution_count": 22,
   "metadata": {},
   "outputs": [
    {
     "data": {
      "text/html": [
       "<div>\n",
       "<style scoped>\n",
       "    .dataframe tbody tr th:only-of-type {\n",
       "        vertical-align: middle;\n",
       "    }\n",
       "\n",
       "    .dataframe tbody tr th {\n",
       "        vertical-align: top;\n",
       "    }\n",
       "\n",
       "    .dataframe thead th {\n",
       "        text-align: right;\n",
       "    }\n",
       "</style>\n",
       "<table border=\"1\" class=\"dataframe\">\n",
       "  <thead>\n",
       "    <tr style=\"text-align: right;\">\n",
       "      <th>ageg</th>\n",
       "      <th>middle</th>\n",
       "      <th>old</th>\n",
       "      <th>young</th>\n",
       "    </tr>\n",
       "    <tr>\n",
       "      <th>ewg</th>\n",
       "      <th></th>\n",
       "      <th></th>\n",
       "      <th></th>\n",
       "    </tr>\n",
       "  </thead>\n",
       "  <tbody>\n",
       "    <tr>\n",
       "      <th>비경제</th>\n",
       "      <td>0.199663</td>\n",
       "      <td>0.555395</td>\n",
       "      <td>0.523744</td>\n",
       "    </tr>\n",
       "    <tr>\n",
       "      <th>실업률</th>\n",
       "      <td>0.014609</td>\n",
       "      <td>0.003616</td>\n",
       "      <td>0.021669</td>\n",
       "    </tr>\n",
       "    <tr>\n",
       "      <th>취업률</th>\n",
       "      <td>0.785728</td>\n",
       "      <td>0.440989</td>\n",
       "      <td>0.454587</td>\n",
       "    </tr>\n",
       "  </tbody>\n",
       "</table>\n",
       "</div>"
      ],
      "text/plain": [
       "ageg    middle       old     young\n",
       "ewg                               \n",
       "비경제   0.199663  0.555395  0.523744\n",
       "실업률   0.014609  0.003616  0.021669\n",
       "취업률   0.785728  0.440989  0.454587"
      ]
     },
     "execution_count": 22,
     "metadata": {},
     "output_type": "execute_result"
    }
   ],
   "source": [
    "pivot_df=\\\n",
    "    age_eW[['ewg','ageg','proportion']].pivot(index='ewg',\n",
    "                                              columns='ageg',\n",
    "                                              values='proportion')\n",
    "pivot_df"
   ]
  },
  {
   "cell_type": "code",
   "execution_count": 23,
   "metadata": {},
   "outputs": [
    {
     "data": {
      "text/plain": [
       "<Axes: ylabel='ewg'>"
      ]
     },
     "execution_count": 23,
     "metadata": {},
     "output_type": "execute_result"
    },
    {
     "data": {
      "image/png": "[encoded data removed]",
      "text/plain": [
       "<Figure size 640x480 with 1 Axes>"
      ]
     },
     "metadata": {},
     "output_type": "display_data"
    }
   ],
   "source": [
    "pivot_df.plot.barh(stacked=True)"
   ]
  },
  {
   "cell_type": "code",
   "execution_count": 24,
   "metadata": {},
   "outputs": [
    {
     "data": {
      "text/plain": [
       "no_eW\n",
       "10.0    3649\n",
       "3.0      788\n",
       "6.0      755\n",
       "9.0      234\n",
       "5.0      185\n",
       "1.0      154\n",
       "7.0      144\n",
       "4.0       51\n",
       "8.0       39\n",
       "2.0       28\n",
       "11.0      15\n",
       "Name: count, dtype: int64"
      ]
     },
     "execution_count": 24,
     "metadata": {},
     "output_type": "execute_result"
    }
   ],
   "source": [
    "welfare['no_eW'].dtype\n",
    "welfare['no_eW'].value_counts() # 빈도수 "
   ]
  },
  {
   "cell_type": "code",
   "execution_count": 25,
   "metadata": {},
   "outputs": [
    {
     "name": "stdout",
     "output_type": "stream",
     "text": [
      "결측 확인: 8380\n"
     ]
    },
    {
     "data": {
      "text/plain": [
       "np.int64(8380)"
      ]
     },
     "execution_count": 25,
     "metadata": {},
     "output_type": "execute_result"
    }
   ],
   "source": [
    "#이상치 결측 처리 \n",
    "\n",
    "welfare['no_eW']=np.where(welfare['no_eW'] == 99, np.nan, welfare['no_eW'])\n",
    "\n",
    "\n",
    "# 결측 확인\n",
    "print(\"결측 확인:\", welfare['no_eW'].isna().sum()) \n",
    "welfare['no_eW'].isna().sum()"
   ]
  },
  {
   "cell_type": "code",
   "execution_count": 26,
   "metadata": {},
   "outputs": [],
   "source": [
    "welfare=welfare.dropna(subset=['no_eW'])"
   ]
  },
  {
   "cell_type": "code",
   "execution_count": null,
   "metadata": {},
   "outputs": [],
   "source": []
  },
  {
   "cell_type": "markdown",
   "metadata": {},
   "source": [
    "[23년도] '성별'과 '국민연금 납부여부' 항목 결측치 확인 및 대체"
   ]
  },
  {
   "cell_type": "code",
   "execution_count": 27,
   "metadata": {},
   "outputs": [
    {
     "data": {
      "text/plain": [
       "sex\n",
       "2.0    3953\n",
       "1.0    2089\n",
       "Name: count, dtype: int64"
      ]
     },
     "execution_count": 27,
     "metadata": {},
     "output_type": "execute_result"
    }
   ],
   "source": [
    "welfare['sex'].value_counts()"
   ]
  },
  {
   "cell_type": "code",
   "execution_count": 28,
   "metadata": {},
   "outputs": [
    {
     "data": {
      "text/plain": [
       "np.int64(0)"
      ]
     },
     "execution_count": 28,
     "metadata": {},
     "output_type": "execute_result"
    }
   ],
   "source": [
    "# 결측확인\n",
    "welfare['sex'].isna().sum()"
   ]
  },
  {
   "cell_type": "code",
   "execution_count": 29,
   "metadata": {},
   "outputs": [
    {
     "data": {
      "text/plain": [
       "sex\n",
       "female    3953\n",
       "male      2089\n",
       "Name: count, dtype: int64"
      ]
     },
     "execution_count": 29,
     "metadata": {},
     "output_type": "execute_result"
    }
   ],
   "source": [
    "# 성별, 항목 이름 부여\n",
    "welfare['sex']=np.where(welfare['sex']==1,'male','female')\n",
    "\n",
    "# 빈도 구하기\n",
    "welfare['sex'].value_counts() # 빈도수"
   ]
  },
  {
   "cell_type": "code",
   "execution_count": 30,
   "metadata": {},
   "outputs": [
    {
     "data": {
      "text/plain": [
       "pension_status\n",
       "2.0    0.548596\n",
       "1.0    0.451404\n",
       "Name: proportion, dtype: float64"
      ]
     },
     "execution_count": 30,
     "metadata": {},
     "output_type": "execute_result"
    }
   ],
   "source": [
    "welfare['pension_status'].value_counts('1')"
   ]
  },
  {
   "cell_type": "code",
   "execution_count": 31,
   "metadata": {},
   "outputs": [
    {
     "data": {
      "text/plain": [
       "np.int64(5579)"
      ]
     },
     "execution_count": 31,
     "metadata": {},
     "output_type": "execute_result"
    }
   ],
   "source": [
    "welfare['pension_status'].isna().sum()"
   ]
  },
  {
   "cell_type": "code",
   "execution_count": 32,
   "metadata": {},
   "outputs": [
    {
     "name": "stdout",
     "output_type": "stream",
     "text": [
      "Pension Status Distribution After Filling:\n",
      "pension_status\n",
      "1.0    4672\n",
      "2.0    1370\n",
      "Name: count, dtype: int64\n"
     ]
    }
   ],
   "source": [
    "# 결측치의 개수 계산\n",
    "missing_count = welfare['pension_status'].isna().sum()\n",
    "\n",
    "# 각 값의 개수 계산\n",
    "count_1 = int(missing_count * 0.8)  # 80%는 1로\n",
    "count_2 = missing_count - count_1   # 나머지 20%는 2로\n",
    "\n",
    "# 결측치를 채울 값 생성\n",
    "fill_values = [1] * count_1 + [2] * count_2\n",
    "\n",
    "# 결측치 위치의 인덱스 찾기\n",
    "nan_indices = welfare[welfare['pension_status'].isna()].index\n",
    "\n",
    "# 랜덤하게 결측치 인덱스를 선택하여 채우기\n",
    "np.random.shuffle(fill_values)\n",
    "welfare.loc[nan_indices, 'pension_status'] = fill_values\n",
    "\n",
    "# 결과 확인\n",
    "print(\"Pension Status Distribution After Filling:\")\n",
    "print(welfare['pension_status'].value_counts())"
   ]
  },
  {
   "cell_type": "code",
   "execution_count": 33,
   "metadata": {},
   "outputs": [
    {
     "data": {
      "text/plain": [
       "np.int64(0)"
      ]
     },
     "execution_count": 33,
     "metadata": {},
     "output_type": "execute_result"
    }
   ],
   "source": [
    "# 결측치 개수 0 확인\n",
    "welfare['pension_status'].isna().sum()"
   ]
  },
  {
   "cell_type": "code",
   "execution_count": 34,
   "metadata": {},
   "outputs": [],
   "source": [
    "# 국민연금 납부 여부 항목 이름 부여\n",
    "welfare['pension_status']=np.where(welfare['pension_status']==1,'paid','unpaid')"
   ]
  },
  {
   "cell_type": "markdown",
   "metadata": {},
   "source": [
    "[23년도] 성별에 따른 국민연금 납부 여부"
   ]
  },
  {
   "cell_type": "code",
   "execution_count": 35,
   "metadata": {},
   "outputs": [
    {
     "data": {
      "image/png": "[encoded data removed]",
      "text/plain": [
       "<Figure size 640x480 with 1 Axes>"
      ]
     },
     "metadata": {},
     "output_type": "display_data"
    }
   ],
   "source": [
    "# 데이터 그룹화 및 집계\n",
    "grouped_data = welfare.groupby(['sex', 'pension_status']).size().unstack()\n",
    "               \n",
    "\n",
    "# 막대 그래프 생성\n",
    "grouped_data.plot(kind='bar', stacked=True, colormap='Set2')\n",
    "plt.title('Pension Status by Sex')\n",
    "plt.xlabel('Sex')\n",
    "plt.ylabel('Count')\n",
    "plt.legend(title='Pension Status')\n",
    "plt.xticks(ticks=range(len(grouped_data.index)), labels=['Male', 'Female'], rotation=0)\n",
    "plt.show()"
   ]
  },
  {
   "cell_type": "markdown",
   "metadata": {},
   "source": [
    "[23년도] '장애종류'와 '외래진료 횟수' 항목 결측치 확인 및 대체 및 제거"
   ]
  },
  {
   "cell_type": "code",
   "execution_count": 36,
   "metadata": {},
   "outputs": [
    {
     "data": {
      "text/plain": [
       "np.int64(0)"
      ]
     },
     "execution_count": 36,
     "metadata": {},
     "output_type": "execute_result"
    }
   ],
   "source": [
    "welfare['disabled_type'].isna().sum()"
   ]
  },
  {
   "cell_type": "code",
   "execution_count": 37,
   "metadata": {},
   "outputs": [
    {
     "data": {
      "text/plain": [
       "disabled_type\n",
       "0.0     5043\n",
       "1.0      434\n",
       "4.0      162\n",
       "2.0      104\n",
       "3.0      102\n",
       "6.0       67\n",
       "9.0       40\n",
       "8.0       35\n",
       "16.0      23\n",
       "7.0        6\n",
       "11.0       6\n",
       "15.0       5\n",
       "14.0       5\n",
       "5.0        5\n",
       "10.0       2\n",
       "12.0       2\n",
       "13.0       1\n",
       "Name: count, dtype: int64"
      ]
     },
     "execution_count": 37,
     "metadata": {},
     "output_type": "execute_result"
    }
   ],
   "source": [
    "welfare['disabled_type'].value_counts()"
   ]
  },
  {
   "cell_type": "code",
   "execution_count": 38,
   "metadata": {},
   "outputs": [
    {
     "data": {
      "text/plain": [
       "0     비장애인\n",
       "5     비장애인\n",
       "6     비장애인\n",
       "7     비장애인\n",
       "10    비장애인\n",
       "11    비장애인\n",
       "12    비장애인\n",
       "16    비장애인\n",
       "18    비장애인\n",
       "20    지체장애\n",
       "Name: disabled, dtype: object"
      ]
     },
     "execution_count": 38,
     "metadata": {},
     "output_type": "execute_result"
    }
   ],
   "source": [
    "# 0:비장애인, 1:지체장애, 2:뇌병변장애, 3:시각장애, 4:청각장애 5~: 그 외\n",
    "\n",
    "welfare['disabled']=np.where(welfare['disabled_type']==0, '비장애인',\n",
    "                           np.where(welfare['disabled_type']==1,'지체장애',\n",
    "                                    np.where(welfare['disabled_type']==2,'뇌병변장애',\n",
    "                                             np.where(welfare['disabled_type']==3,'시각장애',\n",
    "                                                      np.where(welfare['disabled_type']==4,'청각장애','그 외')))))\n",
    "\n",
    "welfare['disabled'].head(10)"
   ]
  },
  {
   "cell_type": "code",
   "execution_count": 39,
   "metadata": {},
   "outputs": [
    {
     "data": {
      "text/plain": [
       "np.int64(0)"
      ]
     },
     "execution_count": 39,
     "metadata": {},
     "output_type": "execute_result"
    }
   ],
   "source": [
    "welfare['hospital_year'].isna().sum()"
   ]
  },
  {
   "cell_type": "code",
   "execution_count": 40,
   "metadata": {},
   "outputs": [],
   "source": [
    "# 외래진료횟수 150회 이상은 결측치로 처리\n",
    "welfare['hospital_year']=np.where(welfare['hospital_year']>=150,np.nan,welfare['hospital_year'])"
   ]
  },
  {
   "cell_type": "code",
   "execution_count": 41,
   "metadata": {},
   "outputs": [],
   "source": [
    "# 결측치 제거\n",
    "welfare = welfare.dropna(subset=['hospital_year'])"
   ]
  },
  {
   "cell_type": "markdown",
   "metadata": {},
   "source": [
    "[23년도] 장애종류에 따른 평균 외래진료 횟수"
   ]
  },
  {
   "cell_type": "code",
   "execution_count": 42,
   "metadata": {},
   "outputs": [
    {
     "data": {
      "image/png": "[encoded data removed]",
      "text/plain": [
       "<Figure size 1000x800 with 1 Axes>"
      ]
     },
     "metadata": {},
     "output_type": "display_data"
    }
   ],
   "source": [
    "# 'disabled' 열의 각 범주별로 'hospital_year' 평균 계산\n",
    "average_hospital_visits = welfare.groupby('disabled')['hospital_year'].mean().reset_index()\n",
    "\n",
    "# 막대 그래프 생성\n",
    "plt.figure(figsize=(10, 8))\n",
    "sns.barplot(data=average_hospital_visits, x='disabled', y='hospital_year', palette='viridis', order=['비장애인','지체장애','뇌병변장애','시각장애','청각장애','그 외'])\n",
    "plt.title('장애종류에 따른 평균 외래진료 횟수')\n",
    "plt.xlabel('장애종류')\n",
    "plt.ylabel('평균 외래진료 횟수')\n",
    "plt.xticks(rotation=0)  # x축 레이블을 읽기 쉽게 회전\n",
    "plt.show()"
   ]
  },
  {
   "cell_type": "markdown",
   "metadata": {},
   "source": [
    "[23년도] '월급' 항목 결측치 확인 및 대체 및 제거"
   ]
  },
  {
   "cell_type": "code",
   "execution_count": 43,
   "metadata": {},
   "outputs": [
    {
     "data": {
      "text/plain": [
       "np.int64(5957)"
      ]
     },
     "execution_count": 43,
     "metadata": {},
     "output_type": "execute_result"
    }
   ],
   "source": [
    "# 이상치는 결측 처리\n",
    "welfare['income']=np.where(welfare['income']>=9500, np.nan, welfare['income'])\n",
    "\n",
    "# 결측치 확인\n",
    "welfare['income'].isna().sum()"
   ]
  },
  {
   "cell_type": "code",
   "execution_count": 44,
   "metadata": {},
   "outputs": [
    {
     "data": {
      "text/html": [
       "<div>\n",
       "<style scoped>\n",
       "    .dataframe tbody tr th:only-of-type {\n",
       "        vertical-align: middle;\n",
       "    }\n",
       "\n",
       "    .dataframe tbody tr th {\n",
       "        vertical-align: top;\n",
       "    }\n",
       "\n",
       "    .dataframe thead th {\n",
       "        text-align: right;\n",
       "    }\n",
       "</style>\n",
       "<table border=\"1\" class=\"dataframe\">\n",
       "  <thead>\n",
       "    <tr style=\"text-align: right;\">\n",
       "      <th></th>\n",
       "      <th>disabled</th>\n",
       "      <th>mean_income</th>\n",
       "    </tr>\n",
       "  </thead>\n",
       "  <tbody>\n",
       "  </tbody>\n",
       "</table>\n",
       "</div>"
      ],
      "text/plain": [
       "Empty DataFrame\n",
       "Columns: [disabled, mean_income]\n",
       "Index: []"
      ]
     },
     "execution_count": 44,
     "metadata": {},
     "output_type": "execute_result"
    }
   ],
   "source": [
    "# 장애종류별 월급 평균\n",
    "dis_income=welfare.dropna(subset=['income'])\\\n",
    "                  .groupby('disabled',as_index=False)\\\n",
    "                  .agg(mean_income=('income','mean'))\n",
    "dis_income"
   ]
  },
  {
   "cell_type": "markdown",
   "metadata": {},
   "source": [
    "[23년도] 장애종류별 평균 월급"
   ]
  },
  {
   "cell_type": "code",
   "execution_count": 45,
   "metadata": {},
   "outputs": [
    {
     "data": {
      "image/png": "[encoded data removed]",
      "text/plain": [
       "<Figure size 640x480 with 1 Axes>"
      ]
     },
     "metadata": {},
     "output_type": "display_data"
    }
   ],
   "source": [
    "# 'disabled' 컬럼을 범주형으로 변환하고 순서 지정\n",
    "dis_income['disabled'] = pd.Categorical(dis_income['disabled'], \n",
    "                                       categories=['비장애인', '지체장애', '뇌병변장애', '시각장애', '청각장애', '그 외'],\n",
    "                                       ordered=True)\n",
    "\n",
    "# 데이터 정렬\n",
    "dis_income = dis_income.sort_values('disabled')\n",
    "\n",
    "\n",
    "# 선 그래프 그리기\n",
    "sns.lineplot(data=dis_income, x='disabled', y='mean_income', marker='h', color='red')\n",
    "plt.title(\"장애종류별 평균 월급\")\n",
    "plt.xlabel('장애종류')\n",
    "plt.ylabel('평균수입')\n",
    "plt.xticks(rotation=0) # x축 범주들 글자 각도 조정, 필요에 따라 조절\n",
    "plt.show()"
   ]
  },
  {
   "cell_type": "markdown",
   "metadata": {},
   "source": [
    "[23년도] 장애인 취업률 구하기"
   ]
  },
  {
   "cell_type": "code",
   "execution_count": 46,
   "metadata": {},
   "outputs": [
    {
     "data": {
      "text/plain": [
       "np.int64(0)"
      ]
     },
     "execution_count": 46,
     "metadata": {},
     "output_type": "execute_result"
    }
   ],
   "source": [
    "welfare['eW'].isna().sum()"
   ]
  },
  {
   "cell_type": "code",
   "execution_count": 47,
   "metadata": {},
   "outputs": [],
   "source": [
    "welfare = welfare.dropna(subset=['eW'])"
   ]
  },
  {
   "cell_type": "code",
   "execution_count": 48,
   "metadata": {},
   "outputs": [
    {
     "data": {
      "text/plain": [
       "eW\n",
       "9.0    5957\n",
       "Name: count, dtype: int64"
      ]
     },
     "execution_count": 48,
     "metadata": {},
     "output_type": "execute_result"
    }
   ],
   "source": [
    "welfare['eW'].value_counts()"
   ]
  },
  {
   "cell_type": "code",
   "execution_count": 49,
   "metadata": {},
   "outputs": [],
   "source": [
    "welfare['eW'] = np.where((welfare['eW'] == 8) | (welfare['eW'] == 9), '비근로자', '근로자')"
   ]
  },
  {
   "cell_type": "code",
   "execution_count": 50,
   "metadata": {},
   "outputs": [
    {
     "data": {
      "text/plain": [
       "eW\n",
       "비근로자    1.0\n",
       "Name: proportion, dtype: float64"
      ]
     },
     "execution_count": 50,
     "metadata": {},
     "output_type": "execute_result"
    }
   ],
   "source": [
    "welfare['eW'].value_counts('1')"
   ]
  },
  {
   "cell_type": "code",
   "execution_count": 51,
   "metadata": {},
   "outputs": [
    {
     "data": {
      "image/png": "[encoded data removed]",
      "text/plain": [
       "<Figure size 1200x800 with 1 Axes>"
      ]
     },
     "metadata": {},
     "output_type": "display_data"
    }
   ],
   "source": [
    "# 장애 종류의 순서를 지정하여 데이터 정렬\n",
    "order = ['비장애인', '지체장애', '뇌병변장애', '시각장애', '청각장애', '그 외']\n",
    "welfare['disabled'] = pd.Categorical(welfare['disabled'], categories=order, ordered=True)\n",
    "\n",
    "# 데이터 그룹화 및 집계\n",
    "grouped_data = welfare.groupby(['disabled', 'eW']).size().unstack().reindex(columns=['근로자', '비근로자'], fill_value=0)\n",
    "\n",
    "# 막대 그래프 생성\n",
    "plt.figure(figsize=(12, 8))\n",
    "ax = grouped_data.plot(kind='bar', stacked=True, colormap='Set1', ax=plt.gca())\n",
    "\n",
    "# 제목 및 축 레이블 설정\n",
    "plt.title('Disability Type and Employment Status')\n",
    "plt.xlabel('Disability Type')\n",
    "plt.ylabel('Count')\n",
    "\n",
    "# x축 레이블 설정\n",
    "plt.xticks(ticks=range(len(grouped_data.index)), labels=grouped_data.index, rotation=45)\n",
    "\n",
    "# 범례 설정\n",
    "plt.legend(title='Employment Status')\n",
    "\n",
    "# 그래프 표시\n",
    "plt.show()"
   ]
  },
  {
   "cell_type": "code",
   "execution_count": 52,
   "metadata": {},
   "outputs": [
    {
     "name": "stdout",
     "output_type": "stream",
     "text": [
      "장애인 중에서 근로자 비율: 0.00%\n",
      "장애인 중에서 비근로자 비율: 100.00%\n"
     ]
    }
   ],
   "source": [
    "\n",
    "# 장애 종류의 순서를 지정하여 데이터 정렬\n",
    "order = ['비장애인', '지체장애', '뇌병변장애', '시각장애', '청각장애', '그 외']\n",
    "welfare['disabled'] = pd.Categorical(welfare['disabled'], categories=order, ordered=True)\n",
    "\n",
    "# 데이터 그룹화 및 집계\n",
    "grouped_data = welfare.groupby(['disabled', 'eW']).size().unstack().reindex(columns=['근로자', '비근로자'], fill_value=0)\n",
    "\n",
    "# 비장애인 제외\n",
    "filtered_data = grouped_data.drop(index='비장애인')\n",
    "\n",
    "# 비장애인을 제외한 나머지 범주의 총 수\n",
    "total_counts_excluding_non_disabled = filtered_data.sum().sum()\n",
    "\n",
    "# 비장애인을 제외한 나머지 범주에서 근로자의 총 수\n",
    "total_employed_excluding_non_disabled = filtered_data['근로자'].sum()\n",
    "\n",
    "# 비율 계산\n",
    "employment_percentage = (total_employed_excluding_non_disabled / total_counts_excluding_non_disabled) * 100\n",
    "\n",
    "# 결과 출력\n",
    "print(f'장애인 중에서 근로자 비율: {employment_percentage:.2f}%')\n",
    "print(f'장애인 중에서 비근로자 비율: {100-employment_percentage:.2f}%')"
   ]
  },
  {
   "cell_type": "code",
   "execution_count": 53,
   "metadata": {},
   "outputs": [
    {
     "data": {
      "text/plain": [
       "sex\n",
       "2.0    7913\n",
       "1.0    6505\n",
       "Name: count, dtype: int64"
      ]
     },
     "execution_count": 53,
     "metadata": {},
     "output_type": "execute_result"
    }
   ],
   "source": [
    "welfare_19['sex'].value_counts()"
   ]
  },
  {
   "cell_type": "code",
   "execution_count": 54,
   "metadata": {},
   "outputs": [
    {
     "data": {
      "text/plain": [
       "np.int64(0)"
      ]
     },
     "execution_count": 54,
     "metadata": {},
     "output_type": "execute_result"
    }
   ],
   "source": [
    "# 결측확인\n",
    "welfare_19['sex'].isna().sum()"
   ]
  },
  {
   "cell_type": "code",
   "execution_count": 55,
   "metadata": {},
   "outputs": [
    {
     "data": {
      "text/plain": [
       "sex\n",
       "female    7913\n",
       "male      6505\n",
       "Name: count, dtype: int64"
      ]
     },
     "execution_count": 55,
     "metadata": {},
     "output_type": "execute_result"
    }
   ],
   "source": [
    "# 성별, 항목 이름 부여\n",
    "welfare_19['sex']=np.where(welfare_19['sex']==1,'male','female')\n",
    "\n",
    "# 빈도 구하기\n",
    "welfare_19['sex'].value_counts() # 빈도수"
   ]
  },
  {
   "cell_type": "code",
   "execution_count": 56,
   "metadata": {},
   "outputs": [
    {
     "data": {
      "text/plain": [
       "pension_status\n",
       "1.0    0.778565\n",
       "2.0    0.221435\n",
       "Name: proportion, dtype: float64"
      ]
     },
     "execution_count": 56,
     "metadata": {},
     "output_type": "execute_result"
    }
   ],
   "source": [
    "welfare_19['pension_status'].value_counts('1')"
   ]
  },
  {
   "cell_type": "code",
   "execution_count": 57,
   "metadata": {},
   "outputs": [
    {
     "data": {
      "text/plain": [
       "np.int64(9902)"
      ]
     },
     "execution_count": 57,
     "metadata": {},
     "output_type": "execute_result"
    }
   ],
   "source": [
    "welfare_19['pension_status'].isna().sum()"
   ]
  },
  {
   "cell_type": "code",
   "execution_count": 58,
   "metadata": {},
   "outputs": [
    {
     "name": "stdout",
     "output_type": "stream",
     "text": [
      "Pension Status Distribution After Filling:\n",
      "pension_status\n",
      "1.0    11437\n",
      "2.0     2981\n",
      "Name: count, dtype: int64\n"
     ]
    }
   ],
   "source": [
    "# 결측치의 개수 계산\n",
    "missing_count = welfare_19['pension_status'].isna().sum()\n",
    "\n",
    "# 각 값의 개수 계산\n",
    "count_1 = int(missing_count * 0.8)  # 80%는 1로\n",
    "count_2 = missing_count - count_1   # 나머지 20%는 2로\n",
    "\n",
    "# 결측치를 채울 값 생성\n",
    "fill_values = [1] * count_1 + [2] * count_2\n",
    "\n",
    "# 결측치 위치의 인덱스 찾기\n",
    "nan_indices = welfare_19[welfare_19['pension_status'].isna()].index\n",
    "\n",
    "# 랜덤하게 결측치 인덱스를 선택하여 채우기\n",
    "np.random.shuffle(fill_values)\n",
    "welfare_19.loc[nan_indices, 'pension_status'] = fill_values\n",
    "\n",
    "# 결과 확인\n",
    "print(\"Pension Status Distribution After Filling:\")\n",
    "print(welfare_19['pension_status'].value_counts())"
   ]
  },
  {
   "cell_type": "code",
   "execution_count": 59,
   "metadata": {},
   "outputs": [
    {
     "data": {
      "text/plain": [
       "np.int64(0)"
      ]
     },
     "execution_count": 59,
     "metadata": {},
     "output_type": "execute_result"
    }
   ],
   "source": [
    "# 결측치 개수 0 확인\n",
    "welfare_19['pension_status'].isna().sum()"
   ]
  },
  {
   "cell_type": "code",
   "execution_count": 60,
   "metadata": {},
   "outputs": [],
   "source": [
    "# 국민연금 납부 여부 항목 이름 부여\n",
    "welfare_19['pension_status']=np.where(welfare_19['pension_status']==1,'paid','unpaid')"
   ]
  },
  {
   "cell_type": "markdown",
   "metadata": {},
   "source": [
    "성별에 따른 국민연금 납부 여부"
   ]
  },
  {
   "cell_type": "code",
   "execution_count": 61,
   "metadata": {},
   "outputs": [
    {
     "data": {
      "image/png": "[encoded data removed]",
      "text/plain": [
       "<Figure size 640x480 with 1 Axes>"
      ]
     },
     "metadata": {},
     "output_type": "display_data"
    }
   ],
   "source": [
    "# 데이터 그룹화 및 집계\n",
    "grouped_data = welfare_19.groupby(['sex', 'pension_status']).size().unstack()\n",
    "\n",
    "# 막대 그래프 생성\n",
    "grouped_data.plot(kind='bar', stacked=True, colormap='Set2')\n",
    "plt.title('Pension Status by Sex')\n",
    "plt.xlabel('Sex')\n",
    "plt.ylabel('Count')\n",
    "plt.legend(title='Pension Status')\n",
    "plt.xticks(ticks=range(len(grouped_data.index)), labels=['Male', 'Female'], rotation=0)\n",
    "plt.show()"
   ]
  },
  {
   "cell_type": "markdown",
   "metadata": {},
   "source": [
    "'장애종류'와 '외래진료 횟수' 항목 결측치 확인 및 대체 및 제거\n"
   ]
  },
  {
   "cell_type": "code",
   "execution_count": 62,
   "metadata": {},
   "outputs": [
    {
     "data": {
      "text/plain": [
       "np.int64(0)"
      ]
     },
     "execution_count": 62,
     "metadata": {},
     "output_type": "execute_result"
    }
   ],
   "source": [
    "welfare_19['disabled_type'].isna().sum()"
   ]
  },
  {
   "cell_type": "code",
   "execution_count": 63,
   "metadata": {},
   "outputs": [
    {
     "data": {
      "text/plain": [
       "disabled_type\n",
       "0.0     13068\n",
       "1.0       661\n",
       "4.0       161\n",
       "3.0       140\n",
       "2.0       118\n",
       "6.0        94\n",
       "16.0       47\n",
       "9.0        42\n",
       "8.0        36\n",
       "7.0        10\n",
       "14.0       10\n",
       "11.0        8\n",
       "5.0         7\n",
       "15.0        5\n",
       "10.0        5\n",
       "12.0        5\n",
       "13.0        1\n",
       "Name: count, dtype: int64"
      ]
     },
     "execution_count": 63,
     "metadata": {},
     "output_type": "execute_result"
    }
   ],
   "source": [
    "welfare_19['disabled_type'].value_counts()"
   ]
  },
  {
   "cell_type": "code",
   "execution_count": 64,
   "metadata": {},
   "outputs": [
    {
     "data": {
      "text/plain": [
       "0    비장애인\n",
       "1    비장애인\n",
       "2    비장애인\n",
       "3    비장애인\n",
       "4    비장애인\n",
       "5    비장애인\n",
       "6    비장애인\n",
       "7    비장애인\n",
       "8    지체장애\n",
       "9    비장애인\n",
       "Name: disabled, dtype: object"
      ]
     },
     "execution_count": 64,
     "metadata": {},
     "output_type": "execute_result"
    }
   ],
   "source": [
    "# 0:비장애인, 1:지체장애, 2:뇌병변장애, 3:시각장애, 4:청각장애 5~: 그 외\n",
    "\n",
    "welfare_19['disabled']=np.where(welfare_19['disabled_type']==0, '비장애인',\n",
    "                           np.where(welfare_19['disabled_type']==1,'지체장애',\n",
    "                                    np.where(welfare_19['disabled_type']==2,'뇌병변장애',\n",
    "                                             np.where(welfare_19['disabled_type']==3,'시각장애',\n",
    "                                                      np.where(welfare_19['disabled_type']==4,'청각장애','그 외')))))\n",
    "\n",
    "welfare_19['disabled'].head(10)"
   ]
  },
  {
   "cell_type": "code",
   "execution_count": 65,
   "metadata": {},
   "outputs": [
    {
     "data": {
      "text/plain": [
       "np.int64(2)"
      ]
     },
     "execution_count": 65,
     "metadata": {},
     "output_type": "execute_result"
    }
   ],
   "source": [
    "welfare_19['hospital_year'].isna().sum()"
   ]
  },
  {
   "cell_type": "code",
   "execution_count": 66,
   "metadata": {},
   "outputs": [],
   "source": [
    "# 외래진료횟수 150회 이상은 결측치로 처리\n",
    "welfare_19['hospital_year']=np.where(welfare_19['hospital_year']>=150,np.nan,welfare_19['hospital_year'])"
   ]
  },
  {
   "cell_type": "code",
   "execution_count": 67,
   "metadata": {},
   "outputs": [],
   "source": [
    "# 결측치 제거\n",
    "welfare_19 = welfare_19.dropna(subset=['hospital_year'])"
   ]
  },
  {
   "cell_type": "markdown",
   "metadata": {},
   "source": [
    "장애종류에 따른 평균 외래진료 횟수"
   ]
  },
  {
   "cell_type": "code",
   "execution_count": 68,
   "metadata": {},
   "outputs": [
    {
     "data": {
      "image/png": "[encoded data removed]",
      "text/plain": [
       "<Figure size 1000x800 with 1 Axes>"
      ]
     },
     "metadata": {},
     "output_type": "display_data"
    }
   ],
   "source": [
    "# 'disabled' 열의 각 범주별로 'hospital_year' 평균 계산\n",
    "average_hospital_visits = welfare_19.groupby('disabled')['hospital_year'].mean().reset_index()\n",
    "\n",
    "# 막대 그래프 생성\n",
    "plt.figure(figsize=(10, 8))\n",
    "sns.barplot(data=average_hospital_visits, x='disabled', y='hospital_year', palette='viridis', order=['비장애인','지체장애','뇌병변장애','시각장애','청각장애','그 외'])\n",
    "plt.title('장애종류에 따른 평균 외래진료 횟수')\n",
    "plt.xlabel('장애종류')\n",
    "plt.ylabel('평균 외래진료 횟수')\n",
    "plt.xticks(rotation=0)  # x축 레이블을 읽기 쉽게 회전\n",
    "plt.show()"
   ]
  },
  {
   "cell_type": "markdown",
   "metadata": {},
   "source": [
    "'월급' 항목 결측치 확인 및 대체 및 제거\n"
   ]
  },
  {
   "cell_type": "code",
   "execution_count": 69,
   "metadata": {},
   "outputs": [
    {
     "data": {
      "text/plain": [
       "np.int64(9785)"
      ]
     },
     "execution_count": 69,
     "metadata": {},
     "output_type": "execute_result"
    }
   ],
   "source": [
    "# 이상치는 결측 처리\n",
    "welfare_19['income']=np.where(welfare_19['income']>=9500, np.nan, welfare_19['income'])\n",
    "\n",
    "# 결측치 확인\n",
    "welfare_19['income'].isna().sum()"
   ]
  },
  {
   "cell_type": "code",
   "execution_count": 70,
   "metadata": {},
   "outputs": [
    {
     "data": {
      "text/html": [
       "<div>\n",
       "<style scoped>\n",
       "    .dataframe tbody tr th:only-of-type {\n",
       "        vertical-align: middle;\n",
       "    }\n",
       "\n",
       "    .dataframe tbody tr th {\n",
       "        vertical-align: top;\n",
       "    }\n",
       "\n",
       "    .dataframe thead th {\n",
       "        text-align: right;\n",
       "    }\n",
       "</style>\n",
       "<table border=\"1\" class=\"dataframe\">\n",
       "  <thead>\n",
       "    <tr style=\"text-align: right;\">\n",
       "      <th></th>\n",
       "      <th>disabled</th>\n",
       "      <th>mean_income</th>\n",
       "    </tr>\n",
       "  </thead>\n",
       "  <tbody>\n",
       "    <tr>\n",
       "      <th>0</th>\n",
       "      <td>그 외</td>\n",
       "      <td>200.863636</td>\n",
       "    </tr>\n",
       "    <tr>\n",
       "      <th>1</th>\n",
       "      <td>뇌병변장애</td>\n",
       "      <td>208.142857</td>\n",
       "    </tr>\n",
       "    <tr>\n",
       "      <th>2</th>\n",
       "      <td>비장애인</td>\n",
       "      <td>273.312282</td>\n",
       "    </tr>\n",
       "    <tr>\n",
       "      <th>3</th>\n",
       "      <td>시각장애</td>\n",
       "      <td>132.321429</td>\n",
       "    </tr>\n",
       "    <tr>\n",
       "      <th>4</th>\n",
       "      <td>지체장애</td>\n",
       "      <td>194.457627</td>\n",
       "    </tr>\n",
       "    <tr>\n",
       "      <th>5</th>\n",
       "      <td>청각장애</td>\n",
       "      <td>167.461538</td>\n",
       "    </tr>\n",
       "  </tbody>\n",
       "</table>\n",
       "</div>"
      ],
      "text/plain": [
       "  disabled  mean_income\n",
       "0      그 외   200.863636\n",
       "1    뇌병변장애   208.142857\n",
       "2     비장애인   273.312282\n",
       "3     시각장애   132.321429\n",
       "4     지체장애   194.457627\n",
       "5     청각장애   167.461538"
      ]
     },
     "execution_count": 70,
     "metadata": {},
     "output_type": "execute_result"
    }
   ],
   "source": [
    "# 장애종류별 월급 평균\n",
    "dis_income=welfare_19.dropna(subset=['income'])\\\n",
    "                  .groupby('disabled',as_index=False)\\\n",
    "                  .agg(mean_income=('income','mean'))\n",
    "dis_income"
   ]
  },
  {
   "cell_type": "markdown",
   "metadata": {},
   "source": [
    "장애종류별 평균 월급"
   ]
  },
  {
   "cell_type": "code",
   "execution_count": 71,
   "metadata": {},
   "outputs": [
    {
     "data": {
      "image/png": "[encoded data removed]",
      "text/plain": [
       "<Figure size 640x480 with 1 Axes>"
      ]
     },
     "metadata": {},
     "output_type": "display_data"
    }
   ],
   "source": [
    "# 'disabled' 컬럼을 범주형으로 변환하고 순서 지정\n",
    "dis_income['disabled'] = pd.Categorical(dis_income['disabled'], \n",
    "                                       categories=['비장애인', '지체장애', '뇌병변장애', '시각장애', '청각장애', '그 외'],\n",
    "                                       ordered=True)\n",
    "\n",
    "# 데이터 정렬\n",
    "dis_income = dis_income.sort_values('disabled')\n",
    "\n",
    "\n",
    "# 선 그래프 그리기\n",
    "sns.lineplot(data=dis_income, x='disabled', y='mean_income', marker='h', color='red')\n",
    "plt.title(\"장애종류별 평균 월급\")\n",
    "plt.xlabel('장애종류')\n",
    "plt.ylabel('평균수입')\n",
    "plt.xticks(rotation=0) # x축 범주들 글자 각도 조정, 필요에 따라 조절\n",
    "plt.show()"
   ]
  },
  {
   "cell_type": "code",
   "execution_count": 72,
   "metadata": {},
   "outputs": [
    {
     "data": {
      "text/plain": [
       "np.int64(1653)"
      ]
     },
     "execution_count": 72,
     "metadata": {},
     "output_type": "execute_result"
    }
   ],
   "source": [
    "welfare_19['eW'].isna().sum()"
   ]
  },
  {
   "cell_type": "code",
   "execution_count": 73,
   "metadata": {},
   "outputs": [],
   "source": [
    "welfare_19 = welfare_19.dropna(subset=['eW'])"
   ]
  },
  {
   "cell_type": "code",
   "execution_count": 74,
   "metadata": {},
   "outputs": [
    {
     "data": {
      "text/plain": [
       "eW\n",
       "9.0    5651\n",
       "1.0    2476\n",
       "2.0    1542\n",
       "6.0    1308\n",
       "3.0     517\n",
       "7.0     430\n",
       "4.0     346\n",
       "5.0     224\n",
       "8.0     155\n",
       "Name: count, dtype: int64"
      ]
     },
     "execution_count": 74,
     "metadata": {},
     "output_type": "execute_result"
    }
   ],
   "source": [
    "welfare_19['eW'].value_counts()"
   ]
  },
  {
   "cell_type": "code",
   "execution_count": 75,
   "metadata": {},
   "outputs": [],
   "source": [
    "welfare_19['eW'] = np.where((welfare_19['eW'] == 8) | (welfare_19['eW'] == 9), '비근로자', '근로자')"
   ]
  },
  {
   "cell_type": "code",
   "execution_count": 76,
   "metadata": {},
   "outputs": [
    {
     "data": {
      "text/plain": [
       "eW\n",
       "근로자     0.540991\n",
       "비근로자    0.459009\n",
       "Name: proportion, dtype: float64"
      ]
     },
     "execution_count": 76,
     "metadata": {},
     "output_type": "execute_result"
    }
   ],
   "source": [
    "welfare_19['eW'].value_counts('1')"
   ]
  },
  {
   "cell_type": "code",
   "execution_count": 77,
   "metadata": {},
   "outputs": [
    {
     "data": {
      "image/png": "[encoded data removed]",
      "text/plain": [
       "<Figure size 1200x800 with 1 Axes>"
      ]
     },
     "metadata": {},
     "output_type": "display_data"
    }
   ],
   "source": [
    "# 장애 종류의 순서를 지정하여 데이터 정렬\n",
    "order = ['비장애인', '지체장애', '뇌병변장애', '시각장애', '청각장애', '그 외']\n",
    "welfare_19['disabled'] = pd.Categorical(welfare_19['disabled'], categories=order, ordered=True)\n",
    "\n",
    "# 데이터 그룹화 및 집계\n",
    "grouped_data = welfare_19.groupby(['disabled', 'eW']).size().unstack().reindex(columns=['근로자', '비근로자'], fill_value=0)\n",
    "\n",
    "# 막대 그래프 생성\n",
    "plt.figure(figsize=(12, 8))\n",
    "ax = grouped_data.plot(kind='bar', stacked=True, colormap='Set1', ax=plt.gca())\n",
    "\n",
    "# 제목 및 축 레이블 설정\n",
    "plt.title('Disability Type and Employment Status')\n",
    "plt.xlabel('Disability Type')\n",
    "plt.ylabel('Count')\n",
    "\n",
    "# x축 레이블 설정\n",
    "plt.xticks(ticks=range(len(grouped_data.index)), labels=grouped_data.index, rotation=45)\n",
    "\n",
    "# 범례 설정\n",
    "plt.legend(title='Employment Status')\n",
    "\n",
    "# 그래프 표시\n",
    "plt.show()"
   ]
  },
  {
   "cell_type": "code",
   "execution_count": 78,
   "metadata": {},
   "outputs": [
    {
     "name": "stdout",
     "output_type": "stream",
     "text": [
      "장애인 중에서 근로자 비율: 33.77%\n",
      "장애인 중에서 비근로자 비율: 66.23%\n"
     ]
    }
   ],
   "source": [
    "\n",
    "# 장애 종류의 순서를 지정하여 데이터 정렬\n",
    "order = ['비장애인', '지체장애', '뇌병변장애', '시각장애', '청각장애', '그 외']\n",
    "welfare_19['disabled'] = pd.Categorical(welfare_19['disabled'], categories=order, ordered=True)\n",
    "\n",
    "# 데이터 그룹화 및 집계\n",
    "grouped_data = welfare_19.groupby(['disabled', 'eW']).size().unstack().reindex(columns=['근로자', '비근로자'], fill_value=0)\n",
    "\n",
    "# 비장애인 제외\n",
    "filtered_data = grouped_data.drop(index='비장애인')\n",
    "\n",
    "# 비장애인을 제외한 나머지 범주의 총 수\n",
    "total_counts_excluding_non_disabled = filtered_data.sum().sum()\n",
    "\n",
    "# 비장애인을 제외한 나머지 범주에서 근로자의 총 수\n",
    "total_employed_excluding_non_disabled = filtered_data['근로자'].sum()\n",
    "\n",
    "# 비율 계산\n",
    "employment_percentage = (total_employed_excluding_non_disabled / total_counts_excluding_non_disabled) * 100\n",
    "\n",
    "# 결과 출력\n",
    "print(f'장애인 중에서 근로자 비율: {employment_percentage:.2f}%')\n",
    "print(f'장애인 중에서 비근로자 비율: {100-employment_percentage:.2f}%')"
   ]
  },
  {
   "cell_type": "code",
   "execution_count": 79,
   "metadata": {},
   "outputs": [
    {
     "data": {
      "image/png": "[encoded data removed]",
      "text/plain": [
       "<Figure size 2000x800 with 2 Axes>"
      ]
     },
     "metadata": {},
     "output_type": "display_data"
    }
   ],
   "source": [
    "import pandas as pd\n",
    "import seaborn as sns\n",
    "import matplotlib.pyplot as plt\n",
    "\n",
    "# 예시 데이터프레임 (실제 데이터프레임을 사용해 주세요)\n",
    "data = {\n",
    "    'disabled': ['비장애인', '지체장애', '뇌병변장애', '시각장애', '청각장애', '그 외']*10,\n",
    "    'hospital_year': [5, 7, 6, 4, 3, 8]*10\n",
    "}\n",
    "welfare_19 = pd.DataFrame(data)\n",
    "\n",
    "# 각 범주별 평균 계산\n",
    "average_hospital_visits = welfare_19.groupby('disabled')['hospital_year'].mean().reset_index()\n",
    "\n",
    "# 두 개의 그래프를 같은 플롯에 그리기\n",
    "fig, ax = plt.subplots(1, 2, figsize=(20, 8), sharey=True)\n",
    "\n",
    "# 첫 번째 그래프\n",
    "sns.barplot(data=average_hospital_visits, x='disabled', y='hospital_year', palette='viridis', order=['비장애인','지체장애','뇌병변장애','시각장애','청각장애','그 외'], ax=ax[0])\n",
    "ax[0].set_title('장애종류에 따른 평균 외래진료 횟수 (첫 번째 그래프)')\n",
    "ax[0].set_xlabel('장애종류')\n",
    "ax[0].set_ylabel('평균 외래진료 횟수')\n",
    "ax[0].tick_params(axis='x', rotation=45)  # x축 레이블을 읽기 쉽게 회전\n",
    "\n",
    "# 두 번째 그래프 (같은 데이터로 다르게 표현할 수 있음)\n",
    "sns.barplot(data=average_hospital_visits, x='disabled', y='hospital_year', palette='magma', order=['비장애인','지체장애','뇌병변장애','시각장애','청각장애','그 외'], ax=ax[1])\n",
    "ax[1].set_title('장애종류에 따른 평균 외래진료 횟수 (두 번째 그래프)')\n",
    "ax[1].set_xlabel('장애종류')\n",
    "ax[1].set_ylabel('평균 외래진료 횟수')\n",
    "ax[1].tick_params(axis='x', rotation=45)  # x축 레이블을 읽기 쉽게 회전\n",
    "\n",
    "# 플롯 간 간격 조정\n",
    "plt.tight_layout()\n",
    "plt.show()\n",
    "\n"
   ]
  },
  {
   "cell_type": "code",
   "execution_count": null,
   "metadata": {},
   "outputs": [],
   "source": []
  }
 ],
 "metadata": {
  "kernelspec": {
   "display_name": "Python 3",
   "language": "python",
   "name": "python3"
  },
  "language_info": {
   "codemirror_mode": {
    "name": "ipython",
    "version": 3
   },
   "file_extension": ".py",
   "mimetype": "text/x-python",
   "name": "python",
   "nbconvert_exporter": "python",
   "pygments_lexer": "ipython3",
   "version": "3.12.4"
  }
 },
 "nbformat": 4,
 "nbformat_minor": 2
}
