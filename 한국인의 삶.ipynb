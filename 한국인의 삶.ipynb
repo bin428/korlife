{
 "cells": [
  {
   "cell_type": "code",
   "execution_count": 1,
   "metadata": {},
   "outputs": [],
   "source": [
    "#!pip install pyreadstat\n",
    "#!pip install matplotlib seaborn\n",
    "#!pip install mplcursors"
   ]
  },
  {
   "cell_type": "code",
   "execution_count": 2,
   "metadata": {},
   "outputs": [],
   "source": [
    "import pandas as pd\n",
    "import numpy as np\n",
    "import seaborn as sns \n",
    "import matplotlib.pyplot as plt\n",
    "import matplotlib\n",
    "import mplcursors\n",
    "import warnings\n",
    "warnings.filterwarnings('ignore')"
   ]
  },
  {
   "cell_type": "code",
   "execution_count": 3,
   "metadata": {},
   "outputs": [],
   "source": [
    "plt.rcParams['font.family']='Malgun Gothic'"
   ]
  },
  {
   "cell_type": "code",
   "execution_count": 4,
   "metadata": {},
   "outputs": [],
   "source": [
    "#데이터 불러오기\n",
    "raw_welfare = pd.read_spss('D:\\syb_data\\data\\Koweps_hpda18_2023_beta1.sav')\n",
    "#데이터 불러오기\n",
    "raw_welfare_19 = pd.read_spss('D:\\syb_data\\data/Koweps_hpwc14_2019_beta2.sav')\n",
    "#복사본 만들기\n",
    "welfare = raw_welfare.copy()\n",
    "#복사본 만들기\n",
    "welfare_19 = raw_welfare_19.copy()"
   ]
  },
  {
   "cell_type": "code",
   "execution_count": 5,
   "metadata": {},
   "outputs": [],
   "source": [
    "#데이터 검토\n",
    "#welfare           # 앞부분, 뒷부분 확인\n",
    "#welfare.shape     # 행, 열의 개수\n",
    "#welfare.info()    # 열의 속성\n",
    "#welfare.describe() # 요약통계"
   ]
  },
  {
   "cell_type": "code",
   "execution_count": 29,
   "metadata": {},
   "outputs": [],
   "source": [
    "# 분석에 필요한 열을 결정 // 열 이름 변경\n",
    "welfare = welfare.rename(\n",
    "    columns= {'h18_g3' : 'sex',                # 성별\n",
    "              'h18_g4' : 'birth',              # 태어난 년도\n",
    "              'h18_g10' : 'marriage_type',    # 혼인 상태\n",
    "              'h18_g11' : 'religion',          # 종교\n",
    "              'p1802_8aq1' : 'income',         # 월급\n",
    "              'h18_eco9' : 'code_job',         # 직업 코드\n",
    "              'h18_reg7' : 'code_region',      # 지역 코드\n",
    "              'h18_eco4' : 'eW' ,              # 주된 경제활동 참여상태\n",
    "              'h18_eco11': 'no_eW',              #비경제활동사유\n",
    "              'h18_g8' : 'disabled_type', #장애종류\n",
    "              'h18_med3' : 'hospital_year', #1년간 의료기간 이용 외래진료횟수\n",
    "              'h18_soc_5' : 'pension_status', #국민연급 납부여부                    \n",
    "              })    \n"
   ]
  },
  {
   "cell_type": "code",
   "execution_count": 7,
   "metadata": {},
   "outputs": [],
   "source": [
    "welfare_19 = welfare_19.rename(\n",
    "    columns= {'h14_g3' : 'sex',                # 성별\n",
    "              'h14_g4' : 'birth',              # 태어난 년도\n",
    "              'h14_g10' : 'marriage_type',    # 혼인 상태\n",
    "              'h14_g11' : 'religion',          # 종교\n",
    "              'p1402_8aq1' : 'income',         # 월급\n",
    "              'h14_eco9' : 'code_job',         # 직업 코드\n",
    "              'h14_reg7' : 'code_region',       # 지역 코드\n",
    "              'h14_eco4' : 'eW' ,              # 주된 경제활동 참여상태\n",
    "              'h14_eco11' : 'no_eW',       # 비경제활동사유\n",
    "              'h14_g8' : 'disabled_type', #장애종류\n",
    "              'h14_med3' : 'hospital_year', #1년간 의료기간 이용 외래진료횟수\n",
    "              'h14_soc_5' : 'pension_status', #국민연급 납부여부  \n",
    "              })  "
   ]
  },
  {
   "cell_type": "code",
   "execution_count": 9,
   "metadata": {},
   "outputs": [
    {
     "data": {
      "text/plain": [
       "count    15931.000000\n",
       "mean        50.575984\n",
       "std         24.226765\n",
       "min         -2.000000\n",
       "25%         32.000000\n",
       "50%         55.000000\n",
       "75%         71.000000\n",
       "max        114.000000\n",
       "Name: age, dtype: float64"
      ]
     },
     "execution_count": 9,
     "metadata": {},
     "output_type": "execute_result"
    }
   ],
   "source": [
    "welfare = welfare.assign(age = 2019 - welfare['birth']+1 )\n",
    "welfare['age'].describe()"
   ]
  },
  {
   "cell_type": "code",
   "execution_count": 27,
   "metadata": {},
   "outputs": [
    {
     "data": {
      "text/plain": [
       "count    13016.000000\n",
       "mean        54.513599\n",
       "std         20.665366\n",
       "min         13.000000\n",
       "25%         39.000000\n",
       "50%         57.000000\n",
       "75%         72.000000\n",
       "max        114.000000\n",
       "Name: age, dtype: float64"
      ]
     },
     "execution_count": 27,
     "metadata": {},
     "output_type": "execute_result"
    }
   ],
   "source": [
    "welfare_19 = welfare_19.assign(age = 2019 - welfare['birth']+1 )\n",
    "welfare_19['age'].describe()"
   ]
  },
  {
   "cell_type": "code",
   "execution_count": 10,
   "metadata": {},
   "outputs": [
    {
     "data": {
      "text/plain": [
       "0    75.0\n",
       "1    72.0\n",
       "2    78.0\n",
       "3    58.0\n",
       "4    57.0\n",
       "Name: age, dtype: float64"
      ]
     },
     "execution_count": 10,
     "metadata": {},
     "output_type": "execute_result"
    }
   ],
   "source": [
    "#연령대에 따른 입금 차이\n",
    "#초년층 : 30세 미만, 중년층 : 30~59세 , 노년층 : 60세 이상\n",
    "\n",
    "#나이 변수 확인\n",
    "\n",
    "welfare['age'].head()"
   ]
  },
  {
   "cell_type": "code",
   "execution_count": null,
   "metadata": {},
   "outputs": [],
   "source": [
    "#연령대에 따른 입금 차이\n",
    "#초년층 : 30세 미만, 중년층 : 30~59세 , 노년층 : 60세 이상\n",
    "\n",
    "#나이 변수 확인\n",
    "\n",
    "welfare['age'].head()"
   ]
  },
  {
   "cell_type": "code",
   "execution_count": 11,
   "metadata": {},
   "outputs": [
    {
     "data": {
      "text/plain": [
       "ageg\n",
       "old       6914\n",
       "middle    5339\n",
       "young     3678\n",
       "Name: count, dtype: int64"
      ]
     },
     "execution_count": 11,
     "metadata": {},
     "output_type": "execute_result"
    }
   ],
   "source": [
    "welfare = welfare.assign(ageg = np.where(welfare['age']<30, 'young',\n",
    "                                np.where(welfare['age']<=59, 'middle','old')))\n",
    "welfare['ageg'].value_counts()"
   ]
  },
  {
   "cell_type": "code",
   "execution_count": 12,
   "metadata": {},
   "outputs": [
    {
     "data": {
      "text/plain": [
       "<Axes: xlabel='ageg', ylabel='count'>"
      ]
     },
     "execution_count": 12,
     "metadata": {},
     "output_type": "execute_result"
    },
    {
     "data": {
      "image/png": "[encoded data removed]",
      "text/plain": [
       "<Figure size 640x480 with 1 Axes>"
      ]
     },
     "metadata": {},
     "output_type": "display_data"
    }
   ],
   "source": [
    "# 빈도 그래프\n",
    "sns.countplot(data=welfare, x= 'ageg')"
   ]
  },
  {
   "cell_type": "markdown",
   "metadata": {},
   "source": [
    "### 연령대 별 취업률과 실업률 비율 "
   ]
  },
  {
   "cell_type": "code",
   "execution_count": 14,
   "metadata": {},
   "outputs": [
    {
     "data": {
      "text/plain": [
       "count    14422.000000\n",
       "mean         5.621620\n",
       "std          3.330262\n",
       "min          1.000000\n",
       "25%          2.000000\n",
       "50%          6.000000\n",
       "75%          9.000000\n",
       "max          9.000000\n",
       "Name: eW, dtype: float64"
      ]
     },
     "execution_count": 14,
     "metadata": {},
     "output_type": "execute_result"
    }
   ],
   "source": [
    "welfare['eW'].describe()"
   ]
  },
  {
   "cell_type": "code",
   "execution_count": 15,
   "metadata": {},
   "outputs": [
    {
     "data": {
      "text/plain": [
       "eW\n",
       "9.0    6042\n",
       "1.0    2757\n",
       "2.0    1880\n",
       "6.0    1627\n",
       "4.0     746\n",
       "7.0     544\n",
       "3.0     477\n",
       "5.0     199\n",
       "8.0     150\n",
       "Name: count, dtype: int64"
      ]
     },
     "execution_count": 15,
     "metadata": {},
     "output_type": "execute_result"
    }
   ],
   "source": [
    "welfare['eW'].dtype\n",
    "welfare['eW'].value_counts() # 빈도수 "
   ]
  },
  {
   "cell_type": "code",
   "execution_count": 16,
   "metadata": {},
   "outputs": [
    {
     "name": "stdout",
     "output_type": "stream",
     "text": [
      "결측 확인: 1509\n"
     ]
    },
    {
     "data": {
      "text/plain": [
       "np.int64(1509)"
      ]
     },
     "execution_count": 16,
     "metadata": {},
     "output_type": "execute_result"
    }
   ],
   "source": [
    "#이상치 결측 처리 \n",
    "\n",
    "welfare['eW']=np.where(welfare['eW'] == 99, np.nan, welfare['eW'])\n",
    "\n",
    "\n",
    "# 결측 확인\n",
    "print(\"결측 확인:\", welfare['eW'].isna().sum()) \n",
    "welfare['eW'].isna().sum()"
   ]
  },
  {
   "cell_type": "code",
   "execution_count": 17,
   "metadata": {},
   "outputs": [],
   "source": [
    "welfare=welfare.dropna(subset=['eW'])"
   ]
  },
  {
   "cell_type": "code",
   "execution_count": 18,
   "metadata": {},
   "outputs": [
    {
     "data": {
      "text/plain": [
       "ewg\n",
       "취업률    8230\n",
       "비경제    6042\n",
       "실업률     150\n",
       "Name: count, dtype: int64"
      ]
     },
     "execution_count": 18,
     "metadata": {},
     "output_type": "execute_result"
    }
   ],
   "source": [
    "welfare = welfare.assign(ewg = np.where(welfare['eW'] <= 7, '취업률',\n",
    "                               np.where(welfare['eW'] == 8, '실업률','비경제')))\n",
    "welfare['ewg'].value_counts()"
   ]
  },
  {
   "cell_type": "code",
   "execution_count": 19,
   "metadata": {},
   "outputs": [
    {
     "data": {
      "text/html": [
       "<div>\n",
       "<style scoped>\n",
       "    .dataframe tbody tr th:only-of-type {\n",
       "        vertical-align: middle;\n",
       "    }\n",
       "\n",
       "    .dataframe tbody tr th {\n",
       "        vertical-align: top;\n",
       "    }\n",
       "\n",
       "    .dataframe thead th {\n",
       "        text-align: right;\n",
       "    }\n",
       "</style>\n",
       "<table border=\"1\" class=\"dataframe\">\n",
       "  <thead>\n",
       "    <tr style=\"text-align: right;\">\n",
       "      <th></th>\n",
       "      <th>ewg</th>\n",
       "      <th>n</th>\n",
       "    </tr>\n",
       "  </thead>\n",
       "  <tbody>\n",
       "    <tr>\n",
       "      <th>0</th>\n",
       "      <td>비경제</td>\n",
       "      <td>6042</td>\n",
       "    </tr>\n",
       "    <tr>\n",
       "      <th>1</th>\n",
       "      <td>실업률</td>\n",
       "      <td>150</td>\n",
       "    </tr>\n",
       "    <tr>\n",
       "      <th>2</th>\n",
       "      <td>취업률</td>\n",
       "      <td>8230</td>\n",
       "    </tr>\n",
       "  </tbody>\n",
       "</table>\n",
       "</div>"
      ],
      "text/plain": [
       "   ewg     n\n",
       "0  비경제  6042\n",
       "1  실업률   150\n",
       "2  취업률  8230"
      ]
     },
     "execution_count": 19,
     "metadata": {},
     "output_type": "execute_result"
    }
   ],
   "source": [
    "n_Employment =welfare.groupby('ewg',as_index=False)\\\n",
    "                 .agg(n= ('ewg','count'))\n",
    "n_Employment"
   ]
  },
  {
   "cell_type": "code",
   "execution_count": 20,
   "metadata": {},
   "outputs": [
    {
     "data": {
      "text/plain": [
       "<Axes: xlabel='ewg', ylabel='n'>"
      ]
     },
     "execution_count": 20,
     "metadata": {},
     "output_type": "execute_result"
    },
    {
     "data": {
      "image/png": "[encoded data removed]",
      "text/plain": [
       "<Figure size 640x480 with 1 Axes>"
      ]
     },
     "metadata": {},
     "output_type": "display_data"
    }
   ],
   "source": [
    "sns.barplot(data = n_Employment, x='ewg', y='n')\n"
   ]
  },
  {
   "cell_type": "code",
   "execution_count": 21,
   "metadata": {},
   "outputs": [
    {
     "data": {
      "text/html": [
       "<div>\n",
       "<style scoped>\n",
       "    .dataframe tbody tr th:only-of-type {\n",
       "        vertical-align: middle;\n",
       "    }\n",
       "\n",
       "    .dataframe tbody tr th {\n",
       "        vertical-align: top;\n",
       "    }\n",
       "\n",
       "    .dataframe thead th {\n",
       "        text-align: right;\n",
       "    }\n",
       "</style>\n",
       "<table border=\"1\" class=\"dataframe\">\n",
       "  <thead>\n",
       "    <tr style=\"text-align: right;\">\n",
       "      <th></th>\n",
       "      <th>ageg</th>\n",
       "      <th>ewg</th>\n",
       "      <th>proportion</th>\n",
       "    </tr>\n",
       "  </thead>\n",
       "  <tbody>\n",
       "    <tr>\n",
       "      <th>0</th>\n",
       "      <td>middle</td>\n",
       "      <td>취업률</td>\n",
       "      <td>0.785728</td>\n",
       "    </tr>\n",
       "    <tr>\n",
       "      <th>1</th>\n",
       "      <td>middle</td>\n",
       "      <td>비경제</td>\n",
       "      <td>0.199663</td>\n",
       "    </tr>\n",
       "    <tr>\n",
       "      <th>2</th>\n",
       "      <td>middle</td>\n",
       "      <td>실업률</td>\n",
       "      <td>0.014609</td>\n",
       "    </tr>\n",
       "    <tr>\n",
       "      <th>3</th>\n",
       "      <td>old</td>\n",
       "      <td>비경제</td>\n",
       "      <td>0.555395</td>\n",
       "    </tr>\n",
       "    <tr>\n",
       "      <th>4</th>\n",
       "      <td>old</td>\n",
       "      <td>취업률</td>\n",
       "      <td>0.440989</td>\n",
       "    </tr>\n",
       "    <tr>\n",
       "      <th>5</th>\n",
       "      <td>old</td>\n",
       "      <td>실업률</td>\n",
       "      <td>0.003616</td>\n",
       "    </tr>\n",
       "    <tr>\n",
       "      <th>6</th>\n",
       "      <td>young</td>\n",
       "      <td>비경제</td>\n",
       "      <td>0.523744</td>\n",
       "    </tr>\n",
       "    <tr>\n",
       "      <th>7</th>\n",
       "      <td>young</td>\n",
       "      <td>취업률</td>\n",
       "      <td>0.454587</td>\n",
       "    </tr>\n",
       "    <tr>\n",
       "      <th>8</th>\n",
       "      <td>young</td>\n",
       "      <td>실업률</td>\n",
       "      <td>0.021669</td>\n",
       "    </tr>\n",
       "  </tbody>\n",
       "</table>\n",
       "</div>"
      ],
      "text/plain": [
       "     ageg  ewg  proportion\n",
       "0  middle  취업률    0.785728\n",
       "1  middle  비경제    0.199663\n",
       "2  middle  실업률    0.014609\n",
       "3     old  비경제    0.555395\n",
       "4     old  취업률    0.440989\n",
       "5     old  실업률    0.003616\n",
       "6   young  비경제    0.523744\n",
       "7   young  취업률    0.454587\n",
       "8   young  실업률    0.021669"
      ]
     },
     "execution_count": 21,
     "metadata": {},
     "output_type": "execute_result"
    }
   ],
   "source": [
    "age_eW = welfare.groupby('ageg',as_index=False)\\\n",
    "                 ['ewg']\\\n",
    "                 .value_counts(normalize=True)\n",
    "age_eW"
   ]
  },
  {
   "cell_type": "code",
   "execution_count": 22,
   "metadata": {},
   "outputs": [
    {
     "data": {
      "text/plain": [
       "<Axes: xlabel='proportion', ylabel='ewg'>"
      ]
     },
     "execution_count": 22,
     "metadata": {},
     "output_type": "execute_result"
    },
    {
     "data": {
      "image/png": "[encoded data removed]",
      "text/plain": [
       "<Figure size 640x480 with 1 Axes>"
      ]
     },
     "metadata": {},
     "output_type": "display_data"
    }
   ],
   "source": [
    "sns.barplot(data=age_eW, y='ewg', x='proportion',hue='ageg')\n"
   ]
  },
  {
   "cell_type": "code",
   "execution_count": 23,
   "metadata": {},
   "outputs": [
    {
     "data": {
      "text/html": [
       "<div>\n",
       "<style scoped>\n",
       "    .dataframe tbody tr th:only-of-type {\n",
       "        vertical-align: middle;\n",
       "    }\n",
       "\n",
       "    .dataframe tbody tr th {\n",
       "        vertical-align: top;\n",
       "    }\n",
       "\n",
       "    .dataframe thead th {\n",
       "        text-align: right;\n",
       "    }\n",
       "</style>\n",
       "<table border=\"1\" class=\"dataframe\">\n",
       "  <thead>\n",
       "    <tr style=\"text-align: right;\">\n",
       "      <th>ageg</th>\n",
       "      <th>middle</th>\n",
       "      <th>old</th>\n",
       "      <th>young</th>\n",
       "    </tr>\n",
       "    <tr>\n",
       "      <th>ewg</th>\n",
       "      <th></th>\n",
       "      <th></th>\n",
       "      <th></th>\n",
       "    </tr>\n",
       "  </thead>\n",
       "  <tbody>\n",
       "    <tr>\n",
       "      <th>비경제</th>\n",
       "      <td>0.199663</td>\n",
       "      <td>0.555395</td>\n",
       "      <td>0.523744</td>\n",
       "    </tr>\n",
       "    <tr>\n",
       "      <th>실업률</th>\n",
       "      <td>0.014609</td>\n",
       "      <td>0.003616</td>\n",
       "      <td>0.021669</td>\n",
       "    </tr>\n",
       "    <tr>\n",
       "      <th>취업률</th>\n",
       "      <td>0.785728</td>\n",
       "      <td>0.440989</td>\n",
       "      <td>0.454587</td>\n",
       "    </tr>\n",
       "  </tbody>\n",
       "</table>\n",
       "</div>"
      ],
      "text/plain": [
       "ageg    middle       old     young\n",
       "ewg                               \n",
       "비경제   0.199663  0.555395  0.523744\n",
       "실업률   0.014609  0.003616  0.021669\n",
       "취업률   0.785728  0.440989  0.454587"
      ]
     },
     "execution_count": 23,
     "metadata": {},
     "output_type": "execute_result"
    }
   ],
   "source": [
    "pivot_df=\\\n",
    "    age_eW[['ewg','ageg','proportion']].pivot(index='ewg',\n",
    "                                              columns='ageg',\n",
    "                                              values='proportion')\n",
    "pivot_df"
   ]
  },
  {
   "cell_type": "code",
   "execution_count": 24,
   "metadata": {},
   "outputs": [
    {
     "data": {
      "text/plain": [
       "<Axes: ylabel='ewg'>"
      ]
     },
     "execution_count": 24,
     "metadata": {},
     "output_type": "execute_result"
    },
    {
     "data": {
      "image/png": "[encoded data removed]",
      "text/plain": [
       "<Figure size 640x480 with 1 Axes>"
      ]
     },
     "metadata": {},
     "output_type": "display_data"
    }
   ],
   "source": [
    "pivot_df.plot.barh(stacked=True)"
   ]
  },
  {
   "cell_type": "code",
   "execution_count": 25,
   "metadata": {},
   "outputs": [
    {
     "data": {
      "text/plain": [
       "no_eW\n",
       "10.0    3649\n",
       "3.0      788\n",
       "6.0      755\n",
       "9.0      234\n",
       "5.0      185\n",
       "1.0      154\n",
       "7.0      144\n",
       "4.0       51\n",
       "8.0       39\n",
       "2.0       28\n",
       "11.0      15\n",
       "Name: count, dtype: int64"
      ]
     },
     "execution_count": 25,
     "metadata": {},
     "output_type": "execute_result"
    }
   ],
   "source": [
    "welfare['no_eW'].dtype\n",
    "welfare['no_eW'].value_counts() # 빈도수 "
   ]
  },
  {
   "cell_type": "code",
   "execution_count": 26,
   "metadata": {},
   "outputs": [
    {
     "name": "stdout",
     "output_type": "stream",
     "text": [
      "결측 확인: 8380\n"
     ]
    },
    {
     "data": {
      "text/plain": [
       "np.int64(8380)"
      ]
     },
     "execution_count": 26,
     "metadata": {},
     "output_type": "execute_result"
    }
   ],
   "source": [
    "#이상치 결측 처리 \n",
    "\n",
    "welfare['no_eW']=np.where(welfare['no_eW'] == 99, np.nan, welfare['no_eW'])\n",
    "\n",
    "\n",
    "# 결측 확인\n",
    "print(\"결측 확인:\", welfare['no_eW'].isna().sum()) \n",
    "welfare['no_eW'].isna().sum()"
   ]
  },
  {
   "cell_type": "code",
   "execution_count": null,
   "metadata": {},
   "outputs": [],
   "source": []
  }
 ],
 "metadata": {
  "kernelspec": {
   "display_name": "Python 3",
   "language": "python",
   "name": "python3"
  },
  "language_info": {
   "codemirror_mode": {
    "name": "ipython",
    "version": 3
   },
   "file_extension": ".py",
   "mimetype": "text/x-python",
   "name": "python",
   "nbconvert_exporter": "python",
   "pygments_lexer": "ipython3",
   "version": "3.12.4"
  }
 },
 "nbformat": 4,
 "nbformat_minor": 2
}
