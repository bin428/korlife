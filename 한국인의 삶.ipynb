{
 "cells": [
  {
   "cell_type": "code",
   "execution_count": null,
   "metadata": {},
   "outputs": [],
   "source": [
    "#!pip install pyreadstat\n",
    "#!pip install matplotlib seaborn\n",
    "#!pip install mplcursors"
   ]
  },
  {
   "cell_type": "code",
   "execution_count": null,
   "metadata": {},
   "outputs": [],
   "source": [
    "import pandas as pd\n",
    "import numpy as np\n",
    "import seaborn as sns \n",
    "import matplotlib.pyplot as plt\n",
    "import matplotlib\n",
    "import mplcursors\n",
    "import warnings\n",
    "warnings.filterwarnings('ignore')"
   ]
  },
  {
   "cell_type": "code",
   "execution_count": null,
   "metadata": {},
   "outputs": [],
   "source": [
    "plt.rcParams['font.family']='Malgun Gothic'"
   ]
  },
  {
   "cell_type": "code",
   "execution_count": null,
   "metadata": {},
   "outputs": [],
   "source": [
    "#데이터 불러오기\n",
    "raw_welfare = pd.read_spss('D:\\syb_data\\data\\Koweps_hpda18_2023_beta1.sav')\n",
    "#데이터 불러오기\n",
    "raw_welfare_19 = pd.read_spss('D:\\syb_data\\data\\Koweps_hpwc14_2019_beta2.sav')\n",
    "#복사본 만들기\n",
    "welfare = raw_welfare.copy()\n",
    "#복사본 만들기\n",
    "welfare_19 = raw_welfare_19.copy()"
   ]
  },
  {
   "cell_type": "code",
   "execution_count": null,
   "metadata": {},
   "outputs": [],
   "source": [
    "#데이터 검토\n",
    "#welfare           # 앞부분, 뒷부분 확인\n",
    "#welfare.shape     # 행, 열의 개수\n",
    "#welfare.info()    # 열의 속성\n",
    "#welfare.describe() # 요약통계"
   ]
  },
  {
   "cell_type": "code",
   "execution_count": null,
   "metadata": {},
   "outputs": [],
   "source": [
    "# 분석에 필요한 열을 결정 // 열 이름 변경\n",
    "welfare = welfare.rename(\n",
    "    columns= {'h18_g3' : 'sex',                # 성별\n",
    "              'h18_g4' : 'birth',              # 태어난 년도\n",
    "              'h18_g10' : 'marriage_type',    # 혼인 상태\n",
    "              'h18_g11' : 'religion',          # 종교\n",
    "              'p1802_8aq1' : 'income',         # 월급\n",
    "              'h18_eco9' : 'code_job',         # 직업 코드\n",
    "              'h18_reg7' : 'code_region',      # 지역 코드\n",
    "              'h18_eco4' : 'eW' ,              # 주된 경제활동 참여상태\n",
    "              'h18_eco11': 'no_eW',              #비경제활동사유\n",
    "              'h18_g8' : 'disabled_type', #장애종류\n",
    "              'h18_med3' : 'hospital_year', #1년간 의료기간 이용 외래진료횟수\n",
    "              'h18_soc_5' : 'pension_status' #국민연급 납부여부    \n",
    "                              \n",
    "              })    \n"
   ]
  },
  {
   "cell_type": "code",
   "execution_count": null,
   "metadata": {},
   "outputs": [],
   "source": [
    "welfare_19 = welfare_19.rename(\n",
    "    columns= {'h14_g3' : 'sex',                # 성별\n",
    "              'h14_g4' : 'birth',              # 태어난 년도\n",
    "              'h14_g10' : 'marriage_type',    # 혼인 상태\n",
    "              'h14_g11' : 'religion',          # 종교\n",
    "              'p1402_8aq1' : 'income',         # 월급\n",
    "              'h14_eco9' : 'code_job',         # 직업 코드\n",
    "              'h14_reg7' : 'code_region',       # 지역 코드\n",
    "              'h14_eco4' : 'eW' ,              # 주된 경제활동 참여상태\n",
    "              'h14_eco11' : 'no_eW',       # 비경제활동사유\n",
    "              'h14_g8' : 'disabled_type', #장애종류\n",
    "              'h14_med3' : 'hospital_year', #1년간 의료기간 이용 외래진료횟수\n",
    "              'h14_soc_5' : 'pension_status', #국민연급 납부여부  \n",
    "              })  "
   ]
  },
  {
   "cell_type": "code",
   "execution_count": null,
   "metadata": {},
   "outputs": [],
   "source": [
    "welfare = welfare.assign(age = 2019 - welfare['birth']+1 )\n",
    "welfare['age'].describe()"
   ]
  },
  {
   "cell_type": "code",
   "execution_count": null,
   "metadata": {},
   "outputs": [],
   "source": [
    "#초년층 : 30세 미만, 중년층 : 30~59세 , 노년층 : 60세 이상\n",
    "\n",
    "#나이 변수 확인\n",
    "\n",
    "welfare['age'].head()"
   ]
  },
  {
   "cell_type": "code",
   "execution_count": null,
   "metadata": {},
   "outputs": [],
   "source": [
    "welfare = welfare.assign(ageg = np.where(welfare['age']<30, 'young',\n",
    "                                np.where(welfare['age']<=59, 'middle','old')))\n",
    "welfare['ageg'].value_counts()"
   ]
  },
  {
   "cell_type": "code",
   "execution_count": null,
   "metadata": {},
   "outputs": [],
   "source": [
    "# 빈도 그래프\n",
    "sns.countplot(data=welfare, x= 'ageg')"
   ]
  },
  {
   "cell_type": "markdown",
   "metadata": {},
   "source": [
    "### 연령대 별 취업률과 실업률 비율 "
   ]
  },
  {
   "cell_type": "code",
   "execution_count": null,
   "metadata": {},
   "outputs": [],
   "source": [
    "welfare['eW'].describe()"
   ]
  },
  {
   "cell_type": "code",
   "execution_count": null,
   "metadata": {},
   "outputs": [],
   "source": [
    "welfare['eW'].dtype\n",
    "welfare['eW'].value_counts() # 빈도수 "
   ]
  },
  {
   "cell_type": "code",
   "execution_count": null,
   "metadata": {},
   "outputs": [],
   "source": [
    "#이상치 결측 처리 \n",
    "\n",
    "welfare['eW']=np.where(welfare['eW'] == 99, np.nan, welfare['eW'])\n",
    "\n",
    "\n",
    "# 결측 확인\n",
    "print(\"결측 확인:\", welfare['eW'].isna().sum()) \n",
    "welfare['eW'].isna().sum()"
   ]
  },
  {
   "cell_type": "code",
   "execution_count": null,
   "metadata": {},
   "outputs": [],
   "source": [
    "welfare=welfare.dropna(subset=['eW'])"
   ]
  },
  {
   "cell_type": "code",
   "execution_count": null,
   "metadata": {},
   "outputs": [],
   "source": [
    "welfare = welfare.assign(ewg = np.where(welfare['eW'] <= 7, '취업률',\n",
    "                               np.where(welfare['eW'] == 8 , '실업률','비경제')))\n",
    "welfare['ewg'].value_counts()"
   ]
  },
  {
   "cell_type": "code",
   "execution_count": null,
   "metadata": {},
   "outputs": [],
   "source": [
    "n_Employment =welfare.groupby('ewg',as_index=False)\\\n",
    "                 .agg(n= ('ewg','count'))\n",
    "n_Employment"
   ]
  },
  {
   "cell_type": "code",
   "execution_count": null,
   "metadata": {},
   "outputs": [],
   "source": [
    "sns.barplot(data = n_Employment, x='ewg', y='n')\n"
   ]
  },
  {
   "cell_type": "code",
   "execution_count": null,
   "metadata": {},
   "outputs": [],
   "source": [
    "age_eW = welfare.groupby('ageg',as_index=False)\\\n",
    "                 ['ewg']\\\n",
    "                 .value_counts(normalize=True)\n",
    "age_eW"
   ]
  },
  {
   "cell_type": "code",
   "execution_count": null,
   "metadata": {},
   "outputs": [],
   "source": [
    "\n",
    "plt.title('23년 연령에 따른 경제활동 참여상태(취업,실업,비경제)')\n",
    "sns.barplot(data=age_eW, y='ewg', x='proportion',hue='ageg')\n",
    "\n"
   ]
  },
  {
   "cell_type": "code",
   "execution_count": null,
   "metadata": {},
   "outputs": [],
   "source": [
    "pivot_df=\\\n",
    "    age_eW[['ewg','ageg','proportion']].pivot(index='ewg',\n",
    "                                              columns='ageg',\n",
    "                                              values='proportion')\n",
    "pivot_df"
   ]
  },
  {
   "cell_type": "code",
   "execution_count": null,
   "metadata": {},
   "outputs": [],
   "source": [
    "pivot_df.plot.barh(stacked=True)"
   ]
  },
  {
   "cell_type": "code",
   "execution_count": null,
   "metadata": {},
   "outputs": [],
   "source": [
    "welfare['no_eW'].dtype\n",
    "welfare['no_eW'].value_counts() # 빈도수 "
   ]
  },
  {
   "cell_type": "code",
   "execution_count": null,
   "metadata": {},
   "outputs": [],
   "source": [
    "#이상치 결측 처리 \n",
    "\n",
    "welfare['no_eW']=np.where(welfare['no_eW'] == 99, np.nan, welfare['no_eW'])\n",
    "\n",
    "\n",
    "# 결측 확인\n",
    "print(\"결측 확인:\", welfare['no_eW'].isna().sum()) \n",
    "welfare['no_eW'].isna().sum()"
   ]
  },
  {
   "cell_type": "code",
   "execution_count": null,
   "metadata": {},
   "outputs": [],
   "source": [
    "#welfare=welfare.dropna(subset=['no_eW'])"
   ]
  },
  {
   "cell_type": "code",
   "execution_count": null,
   "metadata": {},
   "outputs": [],
   "source": [
    "welfare_19['eW'].describe()"
   ]
  },
  {
   "cell_type": "code",
   "execution_count": null,
   "metadata": {},
   "outputs": [],
   "source": [
    "welfare_19['eW'].dtype\n",
    "welfare_19['eW'].value_counts() # 빈도수 "
   ]
  },
  {
   "cell_type": "code",
   "execution_count": null,
   "metadata": {},
   "outputs": [],
   "source": [
    "#이상치 결측 처리 \n",
    "\n",
    "welfare_19['eW']=np.where(welfare_19['eW'] == 99, np.nan, welfare_19['eW'])\n",
    "\n",
    "\n",
    "# 결측 확인\n",
    "print(\"결측 확인:\", welfare_19['eW'].isna().sum()) \n",
    "welfare_19['eW'].isna().sum()"
   ]
  },
  {
   "cell_type": "markdown",
   "metadata": {},
   "source": [
    "[23년도] '성별'과 '국민연금 납부여부' 항목 결측치 확인 및 대체"
   ]
  },
  {
   "cell_type": "code",
   "execution_count": null,
   "metadata": {},
   "outputs": [],
   "source": [
    "welfare['sex'].value_counts()"
   ]
  },
  {
   "cell_type": "code",
   "execution_count": null,
   "metadata": {},
   "outputs": [],
   "source": [
    "# 결측확인\n",
    "welfare['sex'].isna().sum()"
   ]
  },
  {
   "cell_type": "code",
   "execution_count": null,
   "metadata": {},
   "outputs": [],
   "source": [
    "# 성별, 항목 이름 부여\n",
    "welfare['sex']=np.where(welfare['sex']==1,'male','female')\n",
    "\n",
    "# 빈도 구하기\n",
    "welfare['sex'].value_counts() # 빈도수"
   ]
  },
  {
   "cell_type": "code",
   "execution_count": null,
   "metadata": {},
   "outputs": [],
   "source": [
    "welfare['pension_status'].value_counts('1')"
   ]
  },
  {
   "cell_type": "code",
   "execution_count": null,
   "metadata": {},
   "outputs": [],
   "source": [
    "welfare['pension_status'].isna().sum()"
   ]
  },
  {
   "cell_type": "code",
   "execution_count": null,
   "metadata": {},
   "outputs": [],
   "source": [
    "# 결측치의 개수 계산\n",
    "missing_count = welfare['pension_status'].isna().sum()\n",
    "\n",
    "# 각 값의 개수 계산\n",
    "count_1 = int(missing_count * 0.8)  # 80%는 1로\n",
    "count_2 = missing_count - count_1   # 나머지 20%는 2로\n",
    "\n",
    "# 결측치를 채울 값 생성\n",
    "fill_values = [1] * count_1 + [2] * count_2\n",
    "\n",
    "# 결측치 위치의 인덱스 찾기\n",
    "nan_indices = welfare[welfare['pension_status'].isna()].index\n",
    "\n",
    "# 랜덤하게 결측치 인덱스를 선택하여 채우기\n",
    "np.random.shuffle(fill_values)\n",
    "welfare.loc[nan_indices, 'pension_status'] = fill_values\n",
    "\n",
    "# 결과 확인\n",
    "print(\"Pension Status Distribution After Filling:\")\n",
    "print(welfare['pension_status'].value_counts())"
   ]
  },
  {
   "cell_type": "code",
   "execution_count": null,
   "metadata": {},
   "outputs": [],
   "source": [
    "# 결측치 개수 0 확인\n",
    "welfare['pension_status'].isna().sum()"
   ]
  },
  {
   "cell_type": "code",
   "execution_count": null,
   "metadata": {},
   "outputs": [],
   "source": [
    "# 국민연금 납부 여부 항목 이름 부여\n",
    "welfare['pension_status']=np.where(welfare['pension_status']==1,'paid','unpaid')"
   ]
  },
  {
   "cell_type": "markdown",
   "metadata": {},
   "source": [
    "[23년도] 성별에 따른 국민연금 납부 여부"
   ]
  },
  {
   "cell_type": "code",
   "execution_count": null,
   "metadata": {},
   "outputs": [],
   "source": [
    "# 데이터 그룹화 및 집계\n",
    "grouped_data = welfare.groupby(['sex', 'pension_status']).size().unstack()\n",
    "               \n",
    "\n",
    "# 막대 그래프 생성\n",
    "grouped_data.plot(kind='bar', stacked=True, colormap='Set2')\n",
    "plt.title('Pension Status by Sex')\n",
    "plt.xlabel('Sex')\n",
    "plt.ylabel('Count')\n",
    "plt.legend(title='Pension Status')\n",
    "plt.xticks(ticks=range(len(grouped_data.index)), labels=['Male', 'Female'], rotation=0)\n",
    "plt.show()"
   ]
  },
  {
   "cell_type": "markdown",
   "metadata": {},
   "source": [
    "[23년도] '장애종류'와 '외래진료 횟수' 항목 결측치 확인 및 대체 및 제거"
   ]
  },
  {
   "cell_type": "code",
   "execution_count": null,
   "metadata": {},
   "outputs": [],
   "source": [
    "welfare['disabled_type'].isna().sum()"
   ]
  },
  {
   "cell_type": "code",
   "execution_count": null,
   "metadata": {},
   "outputs": [],
   "source": [
    "welfare['disabled_type'].value_counts()"
   ]
  },
  {
   "cell_type": "code",
   "execution_count": null,
   "metadata": {},
   "outputs": [],
   "source": [
    "# 0:비장애인, 1:지체장애, 2:뇌병변장애, 3:시각장애, 4:청각장애 5~: 그 외\n",
    "\n",
    "welfare['disabled']=np.where(welfare['disabled_type']==0, '비장애인',\n",
    "                           np.where(welfare['disabled_type']==1,'지체장애',\n",
    "                                    np.where(welfare['disabled_type']==2,'뇌병변장애',\n",
    "                                             np.where(welfare['disabled_type']==3,'시각장애',\n",
    "                                                      np.where(welfare['disabled_type']==4,'청각장애','그 외')))))\n",
    "\n",
    "welfare['disabled'].head(10)"
   ]
  },
  {
   "cell_type": "code",
   "execution_count": null,
   "metadata": {},
   "outputs": [],
   "source": [
    "welfare['hospital_year'].isna().sum()"
   ]
  },
  {
   "cell_type": "code",
   "execution_count": null,
   "metadata": {},
   "outputs": [],
   "source": [
    "# 외래진료횟수 150회 이상은 결측치로 처리\n",
    "welfare['hospital_year']=np.where(welfare['hospital_year']>=150,np.nan,welfare['hospital_year'])"
   ]
  },
  {
   "cell_type": "code",
   "execution_count": null,
   "metadata": {},
   "outputs": [],
   "source": [
    "# 결측치 제거\n",
    "welfare = welfare.dropna(subset=['hospital_year'])"
   ]
  },
  {
   "cell_type": "markdown",
   "metadata": {},
   "source": [
    "[23년도] 장애종류에 따른 평균 외래진료 횟수"
   ]
  },
  {
   "cell_type": "code",
   "execution_count": null,
   "metadata": {},
   "outputs": [],
   "source": [
    "# 'disabled' 열의 각 범주별로 'hospital_year' 평균 계산\n",
    "average_hospital_visits = welfare.groupby('disabled')['hospital_year'].mean().reset_index()\n",
    "\n",
    "# 막대 그래프 생성\n",
    "plt.figure(figsize=(10, 8))\n",
    "sns.barplot(data=average_hospital_visits, x='disabled', y='hospital_year', palette='viridis', order=['비장애인','지체장애','뇌병변장애','시각장애','청각장애','그 외'])\n",
    "plt.title('장애종류에 따른 평균 외래진료 횟수')\n",
    "plt.xlabel('장애종류')\n",
    "plt.ylabel('평균 외래진료 횟수')\n",
    "plt.xticks(rotation=0)  # x축 레이블을 읽기 쉽게 회전\n",
    "plt.show()"
   ]
  },
  {
   "cell_type": "markdown",
   "metadata": {},
   "source": [
    "[23년도] '월급' 항목 결측치 확인 및 대체 및 제거"
   ]
  },
  {
   "cell_type": "code",
   "execution_count": null,
   "metadata": {},
   "outputs": [],
   "source": [
    "# 이상치는 결측 처리\n",
    "welfare['income']=np.where(welfare['income']>=9500, np.nan, welfare['income'])\n",
    "\n",
    "# 결측치 확인\n",
    "welfare['income'].isna().sum()"
   ]
  },
  {
   "cell_type": "code",
   "execution_count": null,
   "metadata": {},
   "outputs": [],
   "source": [
    "# 장애종류별 월급 평균\n",
    "dis_income=welfare.dropna(subset=['income'])\\\n",
    "                  .groupby('disabled',as_index=False)\\\n",
    "                  .agg(mean_income=('income','mean'))\n",
    "dis_income"
   ]
  },
  {
   "cell_type": "markdown",
   "metadata": {},
   "source": [
    "[23년도] 장애종류별 평균 월급"
   ]
  },
  {
   "cell_type": "code",
   "execution_count": null,
   "metadata": {},
   "outputs": [],
   "source": [
    "# 'disabled' 컬럼을 범주형으로 변환하고 순서 지정\n",
    "dis_income['disabled'] = pd.Categorical(dis_income['disabled'], \n",
    "                                       categories=['비장애인', '지체장애', '뇌병변장애', '시각장애', '청각장애', '그 외'],\n",
    "                                       ordered=True)\n",
    "\n",
    "# 데이터 정렬\n",
    "dis_income = dis_income.sort_values('disabled')\n",
    "\n",
    "\n",
    "# 선 그래프 그리기\n",
    "sns.lineplot(data=dis_income, x='disabled', y='mean_income', marker='h', color='red')\n",
    "plt.title(\"장애종류별 평균 월급\")\n",
    "plt.xlabel('장애종류')\n",
    "plt.ylabel('평균수입')\n",
    "plt.xticks(rotation=0) # x축 범주들 글자 각도 조정, 필요에 따라 조절\n",
    "plt.show()"
   ]
  },
  {
   "cell_type": "markdown",
   "metadata": {},
   "source": [
    "[23년도] 장애인 취업률 구하기"
   ]
  },
  {
   "cell_type": "code",
   "execution_count": null,
   "metadata": {},
   "outputs": [],
   "source": [
    "welfare['eW'].isna().sum()"
   ]
  },
  {
   "cell_type": "code",
   "execution_count": null,
   "metadata": {},
   "outputs": [],
   "source": [
    "welfare = welfare.dropna(subset=['eW'])"
   ]
  },
  {
   "cell_type": "code",
   "execution_count": null,
   "metadata": {},
   "outputs": [],
   "source": [
    "welfare['eW'].value_counts()"
   ]
  },
  {
   "cell_type": "code",
   "execution_count": null,
   "metadata": {},
   "outputs": [],
   "source": [
    "welfare['eW'] = np.where((welfare['eW'] == 8) | (welfare['eW'] == 9), '비근로자', '근로자')"
   ]
  },
  {
   "cell_type": "code",
   "execution_count": null,
   "metadata": {},
   "outputs": [],
   "source": [
    "welfare['eW'].value_counts('1')"
   ]
  },
  {
   "cell_type": "code",
   "execution_count": null,
   "metadata": {},
   "outputs": [],
   "source": [
    "# 장애 종류의 순서를 지정하여 데이터 정렬\n",
    "order = ['비장애인', '지체장애', '뇌병변장애', '시각장애', '청각장애', '그 외']\n",
    "welfare['disabled'] = pd.Categorical(welfare['disabled'], categories=order, ordered=True)\n",
    "\n",
    "# 데이터 그룹화 및 집계\n",
    "grouped_data = welfare.groupby(['disabled', 'eW']).size().unstack().reindex(columns=['근로자', '비근로자'], fill_value=0)\n",
    "\n",
    "# 막대 그래프 생성\n",
    "plt.figure(figsize=(12, 8))\n",
    "ax = grouped_data.plot(kind='bar', stacked=True, colormap='Set1', ax=plt.gca())\n",
    "\n",
    "# 제목 및 축 레이블 설정\n",
    "plt.title('Disability Type and Employment Status')\n",
    "plt.xlabel('Disability Type')\n",
    "plt.ylabel('Count')\n",
    "\n",
    "# x축 레이블 설정\n",
    "plt.xticks(ticks=range(len(grouped_data.index)), labels=grouped_data.index, rotation=45)\n",
    "\n",
    "# 범례 설정\n",
    "plt.legend(title='Employment Status')\n",
    "\n",
    "# 그래프 표시\n",
    "plt.show()"
   ]
  },
  {
   "cell_type": "code",
   "execution_count": null,
   "metadata": {},
   "outputs": [],
   "source": [
    "\n",
    "# 장애 종류의 순서를 지정하여 데이터 정렬\n",
    "order = ['비장애인', '지체장애', '뇌병변장애', '시각장애', '청각장애', '그 외']\n",
    "welfare['disabled'] = pd.Categorical(welfare['disabled'], categories=order, ordered=True)\n",
    "\n",
    "# 데이터 그룹화 및 집계\n",
    "grouped_data = welfare.groupby(['disabled', 'eW']).size().unstack().reindex(columns=['근로자', '비근로자'], fill_value=0)\n",
    "\n",
    "# 비장애인 제외\n",
    "filtered_data = grouped_data.drop(index='비장애인')\n",
    "\n",
    "# 비장애인을 제외한 나머지 범주의 총 수\n",
    "total_counts_excluding_non_disabled = filtered_data.sum().sum()\n",
    "\n",
    "# 비장애인을 제외한 나머지 범주에서 근로자의 총 수\n",
    "total_employed_excluding_non_disabled = filtered_data['근로자'].sum()\n",
    "\n",
    "# 비율 계산\n",
    "employment_percentage = (total_employed_excluding_non_disabled / total_counts_excluding_non_disabled) * 100\n",
    "\n",
    "# 결과 출력\n",
    "print(f'장애인 중에서 근로자 비율: {employment_percentage:.2f}%')\n",
    "print(f'장애인 중에서 비근로자 비율: {100-employment_percentage:.2f}%')"
   ]
  },
  {
   "cell_type": "code",
   "execution_count": null,
   "metadata": {},
   "outputs": [],
   "source": [
    "# 장애에 따른 국민 연금 \n",
    "# 장애 종류의 순서를 지정하여 데이터 정렬\n",
    "order = ['비장애인', '지체장애', '뇌병변장애', '시각장애', '청각장애', '그 외']\n",
    "welfare['disabled'] = pd.Categorical(welfare['disabled'], categories=order, ordered=True)\n",
    "\n",
    "# 데이터 그룹화 및 집계\n",
    "grouped_data = welfare.groupby(['disabled', 'pension_status']).size().unstack().reindex(columns=['', ''], fill_value=0)\n",
    "\n",
    "# 막대 그래프 생성\n",
    "plt.figure(figsize=(12, 8))\n",
    "ax = grouped_data.plot(kind='bar', stacked=True, colormap='Set1', ax=plt.gca())\n",
    "\n",
    "# 제목 및 축 레이블 설정\n",
    "plt.title('Disability Type and Employment Status')\n",
    "plt.xlabel('Disability Type')\n",
    "plt.ylabel('Count')\n",
    "\n",
    "# x축 레이블 설정\n",
    "plt.xticks(ticks=range(len(grouped_data.index)), labels=grouped_data.index, rotation=45)\n",
    "\n",
    "# 범례 설정\n",
    "plt.legend(title='Employment Status')\n",
    "\n",
    "# 그래프 표시\n",
    "plt.show()"
   ]
  },
  {
   "cell_type": "code",
   "execution_count": null,
   "metadata": {},
   "outputs": [],
   "source": [
    "welfare_19['sex'].value_counts()"
   ]
  },
  {
   "cell_type": "code",
   "execution_count": null,
   "metadata": {},
   "outputs": [],
   "source": [
    "# 결측확인\n",
    "welfare_19['sex'].isna().sum()"
   ]
  },
  {
   "cell_type": "code",
   "execution_count": null,
   "metadata": {},
   "outputs": [],
   "source": [
    "# 성별, 항목 이름 부여\n",
    "welfare_19['sex']=np.where(welfare_19['sex']==1,'male','female')\n",
    "\n",
    "# 빈도 구하기\n",
    "welfare_19['sex'].value_counts() # 빈도수"
   ]
  },
  {
   "cell_type": "code",
   "execution_count": null,
   "metadata": {},
   "outputs": [],
   "source": [
    "welfare_19['pension_status'].value_counts('1')"
   ]
  },
  {
   "cell_type": "code",
   "execution_count": null,
   "metadata": {},
   "outputs": [],
   "source": [
    "welfare_19['pension_status'].isna().sum()"
   ]
  },
  {
   "cell_type": "code",
   "execution_count": null,
   "metadata": {},
   "outputs": [],
   "source": [
    "# 결측치의 개수 계산\n",
    "missing_count = welfare_19['pension_status'].isna().sum()\n",
    "\n",
    "# 각 값의 개수 계산\n",
    "count_1 = int(missing_count * 0.8)  # 80%는 1로\n",
    "count_2 = missing_count - count_1   # 나머지 20%는 2로\n",
    "\n",
    "# 결측치를 채울 값 생성\n",
    "fill_values = [1] * count_1 + [2] * count_2\n",
    "\n",
    "# 결측치 위치의 인덱스 찾기\n",
    "nan_indices = welfare_19[welfare_19['pension_status'].isna()].index\n",
    "\n",
    "# 랜덤하게 결측치 인덱스를 선택하여 채우기\n",
    "np.random.shuffle(fill_values)\n",
    "welfare_19.loc[nan_indices, 'pension_status'] = fill_values\n",
    "\n",
    "# 결과 확인\n",
    "print(\"Pension Status Distribution After Filling:\")\n",
    "print(welfare_19['pension_status'].value_counts())"
   ]
  },
  {
   "cell_type": "code",
   "execution_count": null,
   "metadata": {},
   "outputs": [],
   "source": [
    "# 결측치 개수 0 확인\n",
    "welfare_19['pension_status'].isna().sum()"
   ]
  },
  {
   "cell_type": "code",
   "execution_count": null,
   "metadata": {},
   "outputs": [],
   "source": [
    "# 국민연금 납부 여부 항목 이름 부여\n",
    "welfare_19['pension_status']=np.where(welfare_19['pension_status']==1,'paid','unpaid')"
   ]
  },
  {
   "cell_type": "markdown",
   "metadata": {},
   "source": [
    "성별에 따른 국민연금 납부 여부"
   ]
  },
  {
   "cell_type": "code",
   "execution_count": null,
   "metadata": {},
   "outputs": [],
   "source": [
    "# 데이터 그룹화 및 집계\n",
    "grouped_data = welfare_19.groupby(['sex', 'pension_status']).size().unstack()\n",
    "\n",
    "# 막대 그래프 생성\n",
    "grouped_data.plot(kind='bar', stacked=True, colormap='Set2')\n",
    "plt.title('Pension Status by Sex')\n",
    "plt.xlabel('Sex')\n",
    "plt.ylabel('Count')\n",
    "plt.legend(title='Pension Status')\n",
    "plt.xticks(ticks=range(len(grouped_data.index)), labels=['Male', 'Female'], rotation=0)\n",
    "plt.show()"
   ]
  },
  {
   "cell_type": "markdown",
   "metadata": {},
   "source": [
    "'장애종류'와 '외래진료 횟수' 항목 결측치 확인 및 대체 및 제거\n"
   ]
  },
  {
   "cell_type": "code",
   "execution_count": null,
   "metadata": {},
   "outputs": [],
   "source": [
    "welfare_19['disabled_type'].isna().sum()"
   ]
  },
  {
   "cell_type": "code",
   "execution_count": null,
   "metadata": {},
   "outputs": [],
   "source": [
    "welfare_19['disabled_type'].value_counts()"
   ]
  },
  {
   "cell_type": "code",
   "execution_count": null,
   "metadata": {},
   "outputs": [],
   "source": [
    "# 0:비장애인, 1:지체장애, 2:뇌병변장애, 3:시각장애, 4:청각장애 5~: 그 외\n",
    "\n",
    "welfare_19['disabled']=np.where(welfare_19['disabled_type']==0, '비장애인',\n",
    "                           np.where(welfare_19['disabled_type']==1,'지체장애',\n",
    "                                    np.where(welfare_19['disabled_type']==2,'뇌병변장애',\n",
    "                                             np.where(welfare_19['disabled_type']==3,'시각장애',\n",
    "                                                      np.where(welfare_19['disabled_type']==4,'청각장애','그 외')))))\n",
    "\n",
    "welfare_19['disabled'].head(10)"
   ]
  },
  {
   "cell_type": "code",
   "execution_count": null,
   "metadata": {},
   "outputs": [],
   "source": [
    "welfare_19['hospital_year'].isna().sum()"
   ]
  },
  {
   "cell_type": "code",
   "execution_count": null,
   "metadata": {},
   "outputs": [],
   "source": [
    "# 외래진료횟수 150회 이상은 결측치로 처리\n",
    "welfare_19['hospital_year']=np.where(welfare_19['hospital_year']>=150,np.nan,welfare_19['hospital_year'])"
   ]
  },
  {
   "cell_type": "code",
   "execution_count": null,
   "metadata": {},
   "outputs": [],
   "source": [
    "# 결측치 제거\n",
    "welfare_19 = welfare_19.dropna(subset=['hospital_year'])"
   ]
  },
  {
   "cell_type": "markdown",
   "metadata": {},
   "source": [
    "장애종류에 따른 평균 외래진료 횟수"
   ]
  },
  {
   "cell_type": "code",
   "execution_count": null,
   "metadata": {},
   "outputs": [],
   "source": [
    "# 'disabled' 열의 각 범주별로 'hospital_year' 평균 계산\n",
    "average_hospital_visits = welfare_19.groupby('disabled')['hospital_year'].mean().reset_index()\n",
    "\n",
    "# 막대 그래프 생성\n",
    "plt.figure(figsize=(10, 8))\n",
    "sns.barplot(data=average_hospital_visits, x='disabled', y='hospital_year', palette='viridis', order=['비장애인','지체장애','뇌병변장애','시각장애','청각장애','그 외'])\n",
    "plt.title('장애종류에 따른 평균 외래진료 횟수')\n",
    "plt.xlabel('장애종류')\n",
    "plt.ylabel('평균 외래진료 횟수')\n",
    "plt.xticks(rotation=0)  # x축 레이블을 읽기 쉽게 회전\n",
    "plt.show()"
   ]
  },
  {
   "cell_type": "markdown",
   "metadata": {},
   "source": [
    "'월급' 항목 결측치 확인 및 대체 및 제거\n"
   ]
  },
  {
   "cell_type": "code",
   "execution_count": null,
   "metadata": {},
   "outputs": [],
   "source": [
    "# 이상치는 결측 처리\n",
    "welfare_19['income']=np.where(welfare_19['income']>=9500, np.nan, welfare_19['income'])\n",
    "\n",
    "# 결측치 확인\n",
    "welfare_19['income'].isna().sum()"
   ]
  },
  {
   "cell_type": "code",
   "execution_count": null,
   "metadata": {},
   "outputs": [],
   "source": [
    "# 장애종류별 월급 평균\n",
    "dis_income=welfare_19.dropna(subset=['income'])\\\n",
    "                  .groupby('disabled',as_index=False)\\\n",
    "                  .agg(mean_income=('income','mean'))\n",
    "dis_income"
   ]
  },
  {
   "cell_type": "markdown",
   "metadata": {},
   "source": [
    "장애종류별 평균 월급"
   ]
  },
  {
   "cell_type": "code",
   "execution_count": null,
   "metadata": {},
   "outputs": [],
   "source": [
    "# 'disabled' 컬럼을 범주형으로 변환하고 순서 지정\n",
    "dis_income['disabled'] = pd.Categorical(dis_income['disabled'], \n",
    "                                       categories=['비장애인', '지체장애', '뇌병변장애', '시각장애', '청각장애', '그 외'],\n",
    "                                       ordered=True)\n",
    "\n",
    "# 데이터 정렬\n",
    "dis_income = dis_income.sort_values('disabled')\n",
    "\n",
    "\n",
    "# 선 그래프 그리기\n",
    "sns.lineplot(data=dis_income, x='disabled', y='mean_income', marker='h', color='red')\n",
    "plt.title(\"장애종류별 평균 월급\")\n",
    "plt.xlabel('장애종류')\n",
    "plt.ylabel('평균수입')\n",
    "plt.xticks(rotation=0) # x축 범주들 글자 각도 조정, 필요에 따라 조절\n",
    "plt.show()"
   ]
  },
  {
   "cell_type": "code",
   "execution_count": null,
   "metadata": {},
   "outputs": [],
   "source": [
    "welfare_19['eW'].isna().sum()"
   ]
  },
  {
   "cell_type": "code",
   "execution_count": null,
   "metadata": {},
   "outputs": [],
   "source": [
    "welfare_19 = welfare_19.dropna(subset=['eW'])"
   ]
  },
  {
   "cell_type": "code",
   "execution_count": null,
   "metadata": {},
   "outputs": [],
   "source": [
    "welfare_19['eW'].value_counts()"
   ]
  },
  {
   "cell_type": "code",
   "execution_count": null,
   "metadata": {},
   "outputs": [],
   "source": [
    "welfare_19['eW'] = np.where((welfare_19['eW'] == 8) | (welfare_19['eW'] == 9), '비근로자', '근로자')"
   ]
  },
  {
   "cell_type": "code",
   "execution_count": null,
   "metadata": {},
   "outputs": [],
   "source": [
    "welfare_19['eW'].value_counts('1')"
   ]
  },
  {
   "cell_type": "code",
   "execution_count": null,
   "metadata": {},
   "outputs": [],
   "source": [
    "# 장애 종류의 순서를 지정하여 데이터 정렬\n",
    "order = ['비장애인', '지체장애', '뇌병변장애', '시각장애', '청각장애', '그 외']\n",
    "welfare_19['disabled'] = pd.Categorical(welfare_19['disabled'], categories=order, ordered=True)\n",
    "\n",
    "# 데이터 그룹화 및 집계\n",
    "grouped_data = welfare_19.groupby(['disabled', 'eW']).size().unstack().reindex(columns=['근로자', '비근로자'], fill_value=0)\n",
    "\n",
    "# 막대 그래프 생성\n",
    "plt.figure(figsize=(12, 8))\n",
    "ax = grouped_data.plot(kind='bar', stacked=True, colormap='Set1', ax=plt.gca())\n",
    "\n",
    "# 제목 및 축 레이블 설정\n",
    "plt.title('Disability Type and Employment Status')\n",
    "plt.xlabel('Disability Type')\n",
    "plt.ylabel('Count')\n",
    "\n",
    "# x축 레이블 설정\n",
    "plt.xticks(ticks=range(len(grouped_data.index)), labels=grouped_data.index, rotation=45)\n",
    "\n",
    "# 범례 설정\n",
    "plt.legend(title='Employment Status')\n",
    "\n",
    "# 그래프 표시\n",
    "plt.show()"
   ]
  },
  {
   "cell_type": "code",
   "execution_count": null,
   "metadata": {},
   "outputs": [],
   "source": [
    "\n",
    "# 장애 종류의 순서를 지정하여 데이터 정렬\n",
    "order = ['비장애인', '지체장애', '뇌병변장애', '시각장애', '청각장애', '그 외']\n",
    "welfare_19['disabled'] = pd.Categorical(welfare_19['disabled'], categories=order, ordered=True)\n",
    "\n",
    "# 데이터 그룹화 및 집계\n",
    "grouped_data = welfare_19.groupby(['disabled', 'eW']).size().unstack().reindex(columns=['근로자', '비근로자'], fill_value=0)\n",
    "\n",
    "# 비장애인 제외\n",
    "filtered_data = grouped_data.drop(index='비장애인')\n",
    "\n",
    "# 비장애인을 제외한 나머지 범주의 총 수\n",
    "total_counts_excluding_non_disabled = filtered_data.sum().sum()\n",
    "\n",
    "# 비장애인을 제외한 나머지 범주에서 근로자의 총 수\n",
    "total_employed_excluding_non_disabled = filtered_data['근로자'].sum()\n",
    "\n",
    "# 비율 계산\n",
    "employment_percentage = (total_employed_excluding_non_disabled / total_counts_excluding_non_disabled) * 100\n",
    "\n",
    "# 결과 출력\n",
    "print(f'장애인 중에서 근로자 비율: {employment_percentage:.2f}%')\n",
    "print(f'장애인 중에서 비근로자 비율: {100-employment_percentage:.2f}%')"
   ]
  },
  {
   "cell_type": "code",
   "execution_count": null,
   "metadata": {},
   "outputs": [],
   "source": [
    "import pandas as pd\n",
    "import seaborn as sns\n",
    "import matplotlib.pyplot as plt\n",
    "\n",
    "# 예시 데이터프레임 (실제 데이터프레임을 사용해 주세요)\n",
    "data = {\n",
    "    'disabled': ['비장애인', '지체장애', '뇌병변장애', '시각장애', '청각장애', '그 외']*10,\n",
    "    'hospital_year': [5, 7, 6, 4, 3, 8]*10\n",
    "}\n",
    "welfare_19 = pd.DataFrame(data)\n",
    "\n",
    "# 각 범주별 평균 계산\n",
    "average_hospital_visits = welfare_19.groupby('disabled')['hospital_year'].mean().reset_index()\n",
    "\n",
    "# 두 개의 그래프를 같은 플롯에 그리기\n",
    "fig, ax = plt.subplots(1, 2, figsize=(20, 8), sharey=True)\n",
    "\n",
    "# 첫 번째 그래프\n",
    "sns.barplot(data=average_hospital_visits, x='disabled', y='hospital_year', palette='viridis', order=['비장애인','지체장애','뇌병변장애','시각장애','청각장애','그 외'], ax=ax[0])\n",
    "ax[0].set_title('장애종류에 따른 평균 외래진료 횟수 (첫 번째 그래프)')\n",
    "ax[0].set_xlabel('장애종류')\n",
    "ax[0].set_ylabel('평균 외래진료 횟수')\n",
    "ax[0].tick_params(axis='x', rotation=45)  # x축 레이블을 읽기 쉽게 회전\n",
    "\n",
    "# 두 번째 그래프 (같은 데이터로 다르게 표현할 수 있음)\n",
    "sns.barplot(data=average_hospital_visits, x='disabled', y='hospital_year', palette='magma', order=['비장애인','지체장애','뇌병변장애','시각장애','청각장애','그 외'], ax=ax[1])\n",
    "ax[1].set_title('장애종류에 따른 평균 외래진료 횟수 (두 번째 그래프)')\n",
    "ax[1].set_xlabel('장애종류')\n",
    "ax[1].set_ylabel('평균 외래진료 횟수')\n",
    "ax[1].tick_params(axis='x', rotation=45)  # x축 레이블을 읽기 쉽게 회전\n",
    "\n",
    "# 플롯 간 간격 조정\n",
    "plt.tight_layout()\n",
    "plt.show()\n",
    "\n"
   ]
  },
  {
   "cell_type": "code",
   "execution_count": null,
   "metadata": {},
   "outputs": [],
   "source": [
    "# student: 25세이하, young: 26~29세, middle: 30~59세, old: 나머지\n",
    "\n",
    "welfare=welfare.assign(ages=np.where(welfare['age']<=25, 'student',\n",
    "                                     np.where(welfare['age']<30, 'young',\n",
    "                                              np.where(welfare['age']<=59, 'middle','old'))))\n",
    "welfare=welfare['ages'].value_counts()\n"
   ]
  },
  {
   "cell_type": "code",
   "execution_count": null,
   "metadata": {},
   "outputs": [],
   "source": [
    "# 비경제활동사유 항목에 이름 붙이기\n",
    "\n",
    "welfare = welfare.assign(no_eWs=np.where(welfare['no_eW'] == 1, '근로무능력',\n",
    "                                     np.where(welfare['no_eW'] == 2, '군복무',\n",
    "                                         np.where(welfare['no_eW'] == 3, '학업',\n",
    "                                            np.where(welfare['no_eW'] == 4, '진학준비',\n",
    "                                               np.where(welfare['no_eW'] == 5, '취업준비',\n",
    "                                                  np.where(welfare['no_eW'] == 6, '가사',\n",
    "                                                     np.where(welfare['no_eW'] == 7, '양육',\n",
    "                                                        np.where(welfare['no_eW'] == 8, '간병',\n",
    "                                                           np.where(welfare['no_eW'] == 9, '구직활동포기',\n",
    "                                                              np.where(welfare['no_eW'] == 10, '근로의사없음', '기타')\n",
    "                                    )\n",
    "                                )\n",
    "                            )\n",
    "                        )\n",
    "                    )\n",
    "                )\n",
    "            )\n",
    "        )\n",
    "    )\n",
    ")\n"
   ]
  },
  {
   "cell_type": "code",
   "execution_count": null,
   "metadata": {},
   "outputs": [],
   "source": [
    "# x축 순서 설정\n",
    "order = ['student', 'young', 'middle', 'old']\n",
    "\n",
    "# seaborn을 사용하여 연령대별 비경제활동사유를 시각화\n",
    "plt.figure(figsize=(10, 6))\n",
    "ax = sns.countplot(data=welfare, x='ages', hue='no_eWs', palette='Set2', order=order)\n",
    "\n",
    "# y축을 로그 스케일로 변환 (낮은 수치도 잘 보이도록)\n",
    "ax.set_yscale('log')\n",
    "\n",
    "# 막대 위에 실제 수치 표시하기\n",
    "for p in ax.patches:\n",
    "    height = p.get_height()\n",
    "    # 막대의 높이를 로그 스케일로 변환된 값을 이용하여 표시\n",
    "    if height > 0:  # 0인 경우는 제외\n",
    "        ax.text(p.get_x() + p.get_width() / 2., height, f'{int(height):,}', ha=\"center\", va=\"center\", fontsize=10, color='black')\n",
    "\n",
    "# 제목과 레이블 설정\n",
    "plt.title('연령대별 비경제활동사유')\n",
    "plt.xlabel('연령대')\n",
    "plt.ylabel('Count (Log Scale)')\n",
    "\n",
    "# 범례 설정: 글꼴 크기 조정\n",
    "plt.legend(title='비경제활동사유', fontsize='small', title_fontsize='13', loc='upper left', bbox_to_anchor=(1, 1))\n",
    "\n",
    "plt.xticks(rotation=0)\n",
    "plt.tight_layout()  # 레이아웃 조정하여 범례가 잘리지 않도록 함\n",
    "plt.show()"
   ]
  }
 ],
 "metadata": {
  "kernelspec": {
   "display_name": "Python 3",
   "language": "python",
   "name": "python3"
  },
  "language_info": {
   "codemirror_mode": {
    "name": "ipython",
    "version": 3
   },
   "file_extension": ".py",
   "mimetype": "text/x-python",
   "name": "python",
   "nbconvert_exporter": "python",
   "pygments_lexer": "ipython3",
   "version": "3.12.4"
  }
 },
 "nbformat": 4,
 "nbformat_minor": 2
}
