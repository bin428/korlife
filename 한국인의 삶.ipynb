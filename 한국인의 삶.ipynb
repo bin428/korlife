{
 "cells": [
  {
   "cell_type": "code",
   "execution_count": null,
   "metadata": {},
   "outputs": [],
   "source": [
    "#!pip install pyreadstat\n",
    "#!pip install matplotlib seaborn\n",
    "#!pip install mplcursors"
   ]
  },
  {
   "cell_type": "code",
   "execution_count": 1,
   "metadata": {},
   "outputs": [],
   "source": [
    "import pandas as pd\n",
    "import numpy as np\n",
    "import seaborn as sns \n",
    "import matplotlib.pyplot as plt\n",
    "import matplotlib\n",
    "import mplcursors\n",
    "import warnings\n",
    "warnings.filterwarnings('ignore')"
   ]
  },
  {
   "cell_type": "code",
   "execution_count": 2,
   "metadata": {},
   "outputs": [],
   "source": [
    "plt.rcParams['font.family']='Malgun Gothic'"
   ]
  },
  {
   "cell_type": "code",
   "execution_count": 3,
   "metadata": {},
   "outputs": [],
   "source": [
    "#데이터 불러오기\n",
    "raw_welfare = pd.read_spss('D:\\syb_data\\data\\Koweps_hpda18_2023_beta1.sav')\n",
    "#데이터 불러오기\n",
    "raw_welfare_19 = pd.read_spss('D:\\syb_data\\data/Koweps_hpwc14_2019_beta2.sav')\n",
    "#복사본 만들기\n",
    "welfare = raw_welfare.copy()\n",
    "#복사본 만들기\n",
    "welfare_19 = raw_welfare_19.copy()"
   ]
  },
  {
   "cell_type": "code",
   "execution_count": 4,
   "metadata": {},
   "outputs": [],
   "source": [
    "#데이터 검토\n",
    "#welfare           # 앞부분, 뒷부분 확인\n",
    "#welfare.shape     # 행, 열의 개수\n",
    "#welfare.info()    # 열의 속성\n",
    "#welfare.describe() # 요약통계"
   ]
  },
  {
   "cell_type": "code",
   "execution_count": 5,
   "metadata": {},
   "outputs": [],
   "source": [
    "# 분석에 필요한 열을 결정 // 열 이름 변경\n",
    "welfare = welfare.rename(\n",
    "    columns= {'h18_g3' : 'sex',                # 성별\n",
    "              'h18_g4' : 'birth',              # 태어난 년도\n",
    "              'h18_g10' : 'marriage_type',    # 혼인 상태\n",
    "              'h18_g11' : 'religion',          # 종교\n",
    "              'p1802_8aq1' : 'income',         # 월급\n",
    "              'h18_eco9' : 'code_job',         # 직업 코드\n",
    "              'h18_reg7' : 'code_region',      # 지역 코드\n",
    "              'h18_eco4' : 'eW' ,              # 주된 경제활동 참여상태\n",
    "              'h18_eco11': 'no_eW'              #비경제활동사유\n",
    "                                   \n",
    "              })    \n"
   ]
  },
  {
   "cell_type": "code",
   "execution_count": 6,
   "metadata": {},
   "outputs": [],
   "source": [
    "welfare_19 = welfare_19.rename(\n",
    "    columns= {'h14_g3' : 'sex',                # 성별\n",
    "              'h14_g4' : 'birth',              # 태어난 년도\n",
    "              'h14_g10' : 'marriage_type',    # 혼인 상태\n",
    "              'h14_g11' : 'religion',          # 종교\n",
    "              'p1402_8aq1' : 'income',         # 월급\n",
    "              'h14_eco9' : 'code_job',         # 직업 코드\n",
    "              'h14_reg7' : 'code_region',       # 지역 코드\n",
    "              'h14_eco4' : 'eW' ,              # 주된 경제활동 참여상태\n",
    "              'h14_eco11' : 'no_eW'       # 비경제활동사유\n",
    "              })  "
   ]
  },
  {
   "cell_type": "code",
   "execution_count": null,
   "metadata": {},
   "outputs": [],
   "source": []
  }
 ],
 "metadata": {
  "kernelspec": {
   "display_name": "Python 3",
   "language": "python",
   "name": "python3"
  },
  "language_info": {
   "codemirror_mode": {
    "name": "ipython",
    "version": 3
   },
   "file_extension": ".py",
   "mimetype": "text/x-python",
   "name": "python",
   "nbconvert_exporter": "python",
   "pygments_lexer": "ipython3",
   "version": "3.12.4"
  }
 },
 "nbformat": 4,
 "nbformat_minor": 2
}
