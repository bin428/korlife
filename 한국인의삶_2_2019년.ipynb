{
 "cells": [
  {
   "cell_type": "markdown",
   "id": "729f5902",
   "metadata": {},
   "source": [
    "'성별'과 '국민연금 납부여부' 항목 결측치 확인 및 대체"
   ]
  },
  {
   "cell_type": "code",
   "execution_count": 146,
   "id": "4e75fc7c",
   "metadata": {},
   "outputs": [
    {
     "data": {
      "text/plain": [
       "sex\n",
       "2.0    7913\n",
       "1.0    6505\n",
       "Name: count, dtype: int64"
      ]
     },
     "execution_count": 146,
     "metadata": {},
     "output_type": "execute_result"
    }
   ],
   "source": [
    "welfare_19['sex'].value_counts()"
   ]
  },
  {
   "cell_type": "code",
   "execution_count": 147,
   "id": "48af1cd9",
   "metadata": {},
   "outputs": [
    {
     "data": {
      "text/plain": [
       "0"
      ]
     },
     "execution_count": 147,
     "metadata": {},
     "output_type": "execute_result"
    }
   ],
   "source": [
    "# 결측확인\n",
    "welfare_19['sex'].isna().sum()"
   ]
  },
  {
   "cell_type": "code",
   "execution_count": 148,
   "id": "d7a093ee",
   "metadata": {},
   "outputs": [
    {
     "data": {
      "text/plain": [
       "sex\n",
       "female    7913\n",
       "male      6505\n",
       "Name: count, dtype: int64"
      ]
     },
     "execution_count": 148,
     "metadata": {},
     "output_type": "execute_result"
    }
   ],
   "source": [
    "# 성별, 항목 이름 부여\n",
    "welfare_19['sex']=np.where(welfare_19['sex']==1,'male','female')\n",
    "\n",
    "# 빈도 구하기\n",
    "welfare_19['sex'].value_counts() # 빈도수"
   ]
  },
  {
   "cell_type": "code",
   "execution_count": 149,
   "id": "66808d7a",
   "metadata": {},
   "outputs": [
    {
     "data": {
      "text/plain": [
       "pension_status\n",
       "1.0    0.778565\n",
       "2.0    0.221435\n",
       "Name: proportion, dtype: float64"
      ]
     },
     "execution_count": 149,
     "metadata": {},
     "output_type": "execute_result"
    }
   ],
   "source": [
    "welfare_19['pension_status'].value_counts('1')"
   ]
  },
  {
   "cell_type": "code",
   "execution_count": 150,
   "id": "69cf1e60",
   "metadata": {},
   "outputs": [
    {
     "data": {
      "text/plain": [
       "9902"
      ]
     },
     "execution_count": 150,
     "metadata": {},
     "output_type": "execute_result"
    }
   ],
   "source": [
    "welfare_19['pension_status'].isna().sum()"
   ]
  },
  {
   "cell_type": "code",
   "execution_count": 151,
   "id": "e2ddecdf",
   "metadata": {},
   "outputs": [
    {
     "name": "stdout",
     "output_type": "stream",
     "text": [
      "Pension Status Distribution After Filling:\n",
      "pension_status\n",
      "1.0    11437\n",
      "2.0     2981\n",
      "Name: count, dtype: int64\n"
     ]
    }
   ],
   "source": [
    "# 결측치의 개수 계산\n",
    "missing_count = welfare_19['pension_status'].isna().sum()\n",
    "\n",
    "# 각 값의 개수 계산\n",
    "count_1 = int(missing_count * 0.8)  # 80%는 1로\n",
    "count_2 = missing_count - count_1   # 나머지 20%는 2로\n",
    "\n",
    "# 결측치를 채울 값 생성\n",
    "fill_values = [1] * count_1 + [2] * count_2\n",
    "\n",
    "# 결측치 위치의 인덱스 찾기\n",
    "nan_indices = welfare_19[welfare_19['pension_status'].isna()].index\n",
    "\n",
    "# 랜덤하게 결측치 인덱스를 선택하여 채우기\n",
    "np.random.shuffle(fill_values)\n",
    "welfare_19.loc[nan_indices, 'pension_status'] = fill_values\n",
    "\n",
    "# 결과 확인\n",
    "print(\"Pension Status Distribution After Filling:\")\n",
    "print(welfare_19['pension_status'].value_counts())"
   ]
  },
  {
   "cell_type": "code",
   "execution_count": 152,
   "id": "df4cea48",
   "metadata": {},
   "outputs": [
    {
     "data": {
      "text/plain": [
       "0"
      ]
     },
     "execution_count": 152,
     "metadata": {},
     "output_type": "execute_result"
    }
   ],
   "source": [
    "# 결측치 개수 0 확인\n",
    "welfare_19['pension_status'].isna().sum()"
   ]
  },
  {
   "cell_type": "code",
   "execution_count": 153,
   "id": "f64a36e6",
   "metadata": {},
   "outputs": [],
   "source": [
    "# 국민연금 납부 여부 항목 이름 부여\n",
    "welfare_19['pension_status']=np.where(welfare_19['pension_status']==1,'paid','unpaid')"
   ]
  },
  {
   "cell_type": "markdown",
   "id": "5c16b52a",
   "metadata": {},
   "source": [
    "성별에 따른 국민연금 납부 여부"
   ]
  },
  {
   "cell_type": "code",
   "execution_count": 154,
   "id": "3270e1cf",
   "metadata": {},
   "outputs": [
    {
     "data": {
      "image/png": "[encoded data removed]",
      "text/plain": [
       "<Figure size 640x480 with 1 Axes>"
      ]
     },
     "metadata": {},
     "output_type": "display_data"
    }
   ],
   "source": [
    "# 데이터 그룹화 및 집계\n",
    "grouped_data = welfare_19.groupby(['sex', 'pension_status']).size().unstack()\n",
    "\n",
    "# 막대 그래프 생성\n",
    "grouped_data.plot(kind='bar', stacked=True, colormap='Set2')\n",
    "plt.title('Pension Status by Sex')\n",
    "plt.xlabel('Sex')\n",
    "plt.ylabel('Count')\n",
    "plt.legend(title='Pension Status')\n",
    "plt.xticks(ticks=range(len(grouped_data.index)), labels=['Male', 'Female'], rotation=0)\n",
    "plt.show()"
   ]
  },
  {
   "cell_type": "markdown",
   "id": "a5896fd9",
   "metadata": {},
   "source": [
    "'장애종류'와 '외래진료 횟수' 항목 결측치 확인 및 대체 및 제거"
   ]
  },
  {
   "cell_type": "code",
   "execution_count": 155,
   "id": "040085ce",
   "metadata": {},
   "outputs": [
    {
     "data": {
      "text/plain": [
       "0"
      ]
     },
     "execution_count": 155,
     "metadata": {},
     "output_type": "execute_result"
    }
   ],
   "source": [
    "welfare_19['disabled_type'].isna().sum()"
   ]
  },
  {
   "cell_type": "code",
   "execution_count": 156,
   "id": "2ee33a08",
   "metadata": {},
   "outputs": [
    {
     "data": {
      "text/plain": [
       "disabled_type\n",
       "0.0     13068\n",
       "1.0       661\n",
       "4.0       161\n",
       "3.0       140\n",
       "2.0       118\n",
       "6.0        94\n",
       "16.0       47\n",
       "9.0        42\n",
       "8.0        36\n",
       "7.0        10\n",
       "14.0       10\n",
       "11.0        8\n",
       "5.0         7\n",
       "15.0        5\n",
       "10.0        5\n",
       "12.0        5\n",
       "13.0        1\n",
       "Name: count, dtype: int64"
      ]
     },
     "execution_count": 156,
     "metadata": {},
     "output_type": "execute_result"
    }
   ],
   "source": [
    "welfare_19['disabled_type'].value_counts()"
   ]
  },
  {
   "cell_type": "code",
   "execution_count": 157,
   "id": "f5cce00b",
   "metadata": {},
   "outputs": [
    {
     "data": {
      "text/plain": [
       "0    비장애인\n",
       "1    비장애인\n",
       "2    비장애인\n",
       "3    비장애인\n",
       "4    비장애인\n",
       "5    비장애인\n",
       "6    비장애인\n",
       "7    비장애인\n",
       "8    지체장애\n",
       "9    비장애인\n",
       "Name: disabled, dtype: object"
      ]
     },
     "execution_count": 157,
     "metadata": {},
     "output_type": "execute_result"
    }
   ],
   "source": [
    "# 0:비장애인, 1:지체장애, 2:뇌병변장애, 3:시각장애, 4:청각장애 5~: 그 외\n",
    "\n",
    "welfare_19['disabled']=np.where(welfare_19['disabled_type']==0, '비장애인',\n",
    "                           np.where(welfare_19['disabled_type']==1,'지체장애',\n",
    "                                    np.where(welfare_19['disabled_type']==2,'뇌병변장애',\n",
    "                                             np.where(welfare_19['disabled_type']==3,'시각장애',\n",
    "                                                      np.where(welfare_19['disabled_type']==4,'청각장애','그 외')))))\n",
    "\n",
    "welfare_19['disabled'].head(10)"
   ]
  },
  {
   "cell_type": "code",
   "execution_count": 158,
   "id": "8f24aca7",
   "metadata": {},
   "outputs": [
    {
     "data": {
      "text/plain": [
       "2"
      ]
     },
     "execution_count": 158,
     "metadata": {},
     "output_type": "execute_result"
    }
   ],
   "source": [
    "welfare_19['hospital_year'].isna().sum()"
   ]
  },
  {
   "cell_type": "code",
   "execution_count": 159,
   "id": "4ab67d88",
   "metadata": {},
   "outputs": [],
   "source": [
    "# 외래진료횟수 150회 이상은 결측치로 처리\n",
    "welfare_19['hospital_year']=np.where(welfare_19['hospital_year']>=150,np.nan,welfare_19['hospital_year'])"
   ]
  },
  {
   "cell_type": "code",
   "execution_count": 160,
   "id": "0e61017b",
   "metadata": {},
   "outputs": [],
   "source": [
    "# 결측치 제거\n",
    "welfare_19 = welfare_19.dropna(subset=['hospital_year'])"
   ]
  },
  {
   "cell_type": "markdown",
   "id": "61adead8",
   "metadata": {},
   "source": [
    "장애종류에 따른 평균 외래진료 횟수"
   ]
  },
  {
   "cell_type": "code",
   "execution_count": 161,
   "id": "c0667c83",
   "metadata": {},
   "outputs": [
    {
     "data": {
      "image/png": "[encoded data removed]",
      "text/plain": [
       "<Figure size 1000x800 with 1 Axes>"
      ]
     },
     "metadata": {},
     "output_type": "display_data"
    }
   ],
   "source": [
    "# 'disabled' 열의 각 범주별로 'hospital_year' 평균 계산\n",
    "average_hospital_visits = welfare_19.groupby('disabled')['hospital_year'].mean().reset_index()\n",
    "\n",
    "# 막대 그래프 생성\n",
    "plt.figure(figsize=(10, 8))\n",
    "sns.barplot(data=average_hospital_visits, x='disabled', y='hospital_year', palette='viridis', order=['비장애인','지체장애','뇌병변장애','시각장애','청각장애','그 외'])\n",
    "plt.title('장애종류에 따른 평균 외래진료 횟수')\n",
    "plt.xlabel('장애종류')\n",
    "plt.ylabel('평균 외래진료 횟수')\n",
    "plt.xticks(rotation=0)  # x축 레이블을 읽기 쉽게 회전\n",
    "plt.show()"
   ]
  },
  {
   "cell_type": "markdown",
   "id": "4724691b",
   "metadata": {},
   "source": [
    "'월급' 항목 결측치 확인 및 대체 및 제거"
   ]
  },
  {
   "cell_type": "code",
   "execution_count": 162,
   "id": "7f05092c",
   "metadata": {},
   "outputs": [
    {
     "data": {
      "text/plain": [
       "11738"
      ]
     },
     "execution_count": 162,
     "metadata": {},
     "output_type": "execute_result"
    }
   ],
   "source": [
    "# 이상치는 결측 처리\n",
    "welfare_19['income']=np.where(welfare_19['income']>=9500, np.nan, welfare_19['income'])\n",
    "\n",
    "# 결측치 확인\n",
    "welfare_19['income'].isna().sum()"
   ]
  },
  {
   "cell_type": "code",
   "execution_count": 163,
   "id": "a48336c3",
   "metadata": {},
   "outputs": [
    {
     "data": {
      "text/html": [
       "<div>\n",
       "<style scoped>\n",
       "    .dataframe tbody tr th:only-of-type {\n",
       "        vertical-align: middle;\n",
       "    }\n",
       "\n",
       "    .dataframe tbody tr th {\n",
       "        vertical-align: top;\n",
       "    }\n",
       "\n",
       "    .dataframe thead th {\n",
       "        text-align: right;\n",
       "    }\n",
       "</style>\n",
       "<table border=\"1\" class=\"dataframe\">\n",
       "  <thead>\n",
       "    <tr style=\"text-align: right;\">\n",
       "      <th></th>\n",
       "      <th>disabled</th>\n",
       "      <th>mean_income</th>\n",
       "    </tr>\n",
       "  </thead>\n",
       "  <tbody>\n",
       "    <tr>\n",
       "      <th>0</th>\n",
       "      <td>그 외</td>\n",
       "      <td>4459.375000</td>\n",
       "    </tr>\n",
       "    <tr>\n",
       "      <th>1</th>\n",
       "      <td>뇌병변장애</td>\n",
       "      <td>3330.500000</td>\n",
       "    </tr>\n",
       "    <tr>\n",
       "      <th>2</th>\n",
       "      <td>비장애인</td>\n",
       "      <td>3855.683915</td>\n",
       "    </tr>\n",
       "    <tr>\n",
       "      <th>3</th>\n",
       "      <td>시각장애</td>\n",
       "      <td>2173.285714</td>\n",
       "    </tr>\n",
       "    <tr>\n",
       "      <th>4</th>\n",
       "      <td>지체장애</td>\n",
       "      <td>3861.820513</td>\n",
       "    </tr>\n",
       "    <tr>\n",
       "      <th>5</th>\n",
       "      <td>청각장애</td>\n",
       "      <td>2998.000000</td>\n",
       "    </tr>\n",
       "  </tbody>\n",
       "</table>\n",
       "</div>"
      ],
      "text/plain": [
       "  disabled  mean_income\n",
       "0      그 외  4459.375000\n",
       "1    뇌병변장애  3330.500000\n",
       "2     비장애인  3855.683915\n",
       "3     시각장애  2173.285714\n",
       "4     지체장애  3861.820513\n",
       "5     청각장애  2998.000000"
      ]
     },
     "execution_count": 163,
     "metadata": {},
     "output_type": "execute_result"
    }
   ],
   "source": [
    "# 장애종류별 월급 평균\n",
    "dis_income=welfare_19.dropna(subset=['income'])\\\n",
    "                  .groupby('disabled',as_index=False)\\\n",
    "                  .agg(mean_income=('income','mean'))\n",
    "dis_income"
   ]
  },
  {
   "cell_type": "markdown",
   "id": "2771eec2",
   "metadata": {},
   "source": [
    "장애종류별 평균 월급"
   ]
  },
  {
   "cell_type": "code",
   "execution_count": 164,
   "id": "78d00e44",
   "metadata": {},
   "outputs": [
    {
     "data": {
      "image/png": "[encoded data removed]",
      "text/plain": [
       "<Figure size 640x480 with 1 Axes>"
      ]
     },
     "metadata": {},
     "output_type": "display_data"
    }
   ],
   "source": [
    "# 'disabled' 컬럼을 범주형으로 변환하고 순서 지정\n",
    "dis_income['disabled'] = pd.Categorical(dis_income['disabled'], \n",
    "                                       categories=['비장애인', '지체장애', '뇌병변장애', '시각장애', '청각장애', '그 외'],\n",
    "                                       ordered=True)\n",
    "\n",
    "# 데이터 정렬\n",
    "dis_income = dis_income.sort_values('disabled')\n",
    "\n",
    "\n",
    "# 선 그래프 그리기\n",
    "sns.lineplot(data=dis_income, x='disabled', y='mean_income', marker='h', color='red')\n",
    "plt.title(\"장애종류별 평균 월급\")\n",
    "plt.xlabel('장애종류')\n",
    "plt.ylabel('평균수입')\n",
    "plt.xticks(rotation=0) # x축 범주들 글자 각도 조정, 필요에 따라 조절\n",
    "plt.show()"
   ]
  },
  {
   "cell_type": "code",
   "execution_count": 165,
   "id": "78ed2569",
   "metadata": {},
   "outputs": [
    {
     "data": {
      "text/plain": [
       "1653"
      ]
     },
     "execution_count": 165,
     "metadata": {},
     "output_type": "execute_result"
    }
   ],
   "source": [
    "welfare_19['eW'].isna().sum()"
   ]
  },
  {
   "cell_type": "code",
   "execution_count": 166,
   "id": "163ff776",
   "metadata": {},
   "outputs": [],
   "source": [
    "welfare_19 = welfare_19.dropna(subset=['eW'])"
   ]
  },
  {
   "cell_type": "code",
   "execution_count": 168,
   "id": "f9d6f9de",
   "metadata": {},
   "outputs": [
    {
     "data": {
      "text/plain": [
       "working\n",
       "9.0    5651\n",
       "1.0    2476\n",
       "2.0    1542\n",
       "6.0    1308\n",
       "3.0     517\n",
       "7.0     430\n",
       "4.0     346\n",
       "5.0     224\n",
       "8.0     155\n",
       "Name: count, dtype: int64"
      ]
     },
     "execution_count": 168,
     "metadata": {},
     "output_type": "execute_result"
    }
   ],
   "source": [
    "welfare_19['eW'].value_counts()"
   ]
  },
  {
   "cell_type": "code",
   "execution_count": 169,
   "id": "2abe723e",
   "metadata": {},
   "outputs": [],
   "source": [
    "welfare_19['eW'] = np.where((welfare_19['eW'] == 8) | (welfare_19['eW'] == 9), '비근로자', '근로자')"
   ]
  },
  {
   "cell_type": "code",
   "execution_count": 172,
   "id": "803a1f32",
   "metadata": {},
   "outputs": [
    {
     "data": {
      "text/plain": [
       "working\n",
       "근로자     0.540991\n",
       "비근로자    0.459009\n",
       "Name: proportion, dtype: float64"
      ]
     },
     "execution_count": 172,
     "metadata": {},
     "output_type": "execute_result"
    }
   ],
   "source": [
    "welfare_19['eW'].value_counts('1')"
   ]
  },
  {
   "cell_type": "code",
   "execution_count": 174,
   "id": "7cb8d01e",
   "metadata": {},
   "outputs": [
    {
     "data": {
      "image/png": "[encoded data removed]",
      "text/plain": [
       "<Figure size 1200x800 with 1 Axes>"
      ]
     },
     "metadata": {},
     "output_type": "display_data"
    }
   ],
   "source": [
    "# 장애 종류의 순서를 지정하여 데이터 정렬\n",
    "order = ['비장애인', '지체장애', '뇌병변장애', '시각장애', '청각장애', '그 외']\n",
    "welfare_19['disabled'] = pd.Categorical(welfare_19['disabled'], categories=order, ordered=True)\n",
    "\n",
    "# 데이터 그룹화 및 집계\n",
    "grouped_data = welfare_19.groupby(['disabled', 'eW']).size().unstack().reindex(columns=['근로자', '비근로자'], fill_value=0)\n",
    "\n",
    "# 막대 그래프 생성\n",
    "plt.figure(figsize=(12, 8))\n",
    "ax = grouped_data.plot(kind='bar', stacked=True, colormap='Set1', ax=plt.gca())\n",
    "\n",
    "# 제목 및 축 레이블 설정\n",
    "plt.title('Disability Type and Employment Status')\n",
    "plt.xlabel('Disability Type')\n",
    "plt.ylabel('Count')\n",
    "\n",
    "# x축 레이블 설정\n",
    "plt.xticks(ticks=range(len(grouped_data.index)), labels=grouped_data.index, rotation=45)\n",
    "\n",
    "# 범례 설정\n",
    "plt.legend(title='Employment Status')\n",
    "\n",
    "# 그래프 표시\n",
    "plt.show()"
   ]
  },
  {
   "cell_type": "code",
   "execution_count": 175,
   "id": "2322e453",
   "metadata": {},
   "outputs": [
    {
     "name": "stdout",
     "output_type": "stream",
     "text": [
      "장애인 중에서 근로자 비율: 33.77%\n",
      "장애인 중에서 비근로자 비율: 66.23%\n"
     ]
    }
   ],
   "source": [
    "\n",
    "# 장애 종류의 순서를 지정하여 데이터 정렬\n",
    "order = ['비장애인', '지체장애', '뇌병변장애', '시각장애', '청각장애', '그 외']\n",
    "welfare_19['disabled'] = pd.Categorical(welfare_19['disabled'], categories=order, ordered=True)\n",
    "\n",
    "# 데이터 그룹화 및 집계\n",
    "grouped_data = welfare_19.groupby(['disabled', 'eW']).size().unstack().reindex(columns=['근로자', '비근로자'], fill_value=0)\n",
    "\n",
    "# 비장애인 제외\n",
    "filtered_data = grouped_data.drop(index='비장애인')\n",
    "\n",
    "# 비장애인을 제외한 나머지 범주의 총 수\n",
    "total_counts_excluding_non_disabled = filtered_data.sum().sum()\n",
    "\n",
    "# 비장애인을 제외한 나머지 범주에서 근로자의 총 수\n",
    "total_employed_excluding_non_disabled = filtered_data['근로자'].sum()\n",
    "\n",
    "# 비율 계산\n",
    "employment_percentage = (total_employed_excluding_non_disabled / total_counts_excluding_non_disabled) * 100\n",
    "\n",
    "# 결과 출력\n",
    "print(f'장애인 중에서 근로자 비율: {employment_percentage:.2f}%')\n",
    "print(f'장애인 중에서 비근로자 비율: {100-employment_percentage:.2f}%')"
   ]
  }
 ],
 "metadata": {
  "kernelspec": {
   "display_name": ".venv",
   "language": "python",
   "name": "python3"
  },
  "language_info": {
   "codemirror_mode": {
    "name": "ipython",
    "version": 3
   },
   "file_extension": ".py",
   "mimetype": "text/x-python",
   "name": "python",
   "nbconvert_exporter": "python",
   "pygments_lexer": "ipython3",
   "version": "3.12.4"
  }
 },
 "nbformat": 4,
 "nbformat_minor": 5
}
